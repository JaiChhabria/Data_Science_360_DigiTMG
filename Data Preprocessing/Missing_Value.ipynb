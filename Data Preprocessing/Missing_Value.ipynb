{
 "cells": [
  {
   "cell_type": "markdown",
   "id": "0126256e",
   "metadata": {},
   "source": [
    "## How to Handle Missing Values in the data"
   ]
  },
  {
   "cell_type": "markdown",
   "id": "feeec71c",
   "metadata": {},
   "source": [
    "Lets load necessary libraries"
   ]
  },
  {
   "cell_type": "code",
   "execution_count": 1,
   "id": "425091dc",
   "metadata": {},
   "outputs": [],
   "source": [
    "import pandas as pd\n",
    "import numpy as np\n",
    "import matplotlib.pyplot as plt\n",
    "import seaborn as sns"
   ]
  },
  {
   "cell_type": "markdown",
   "id": "387366e0",
   "metadata": {},
   "source": [
    "Lets load our data set as df"
   ]
  },
  {
   "cell_type": "code",
   "execution_count": 2,
   "id": "8a051ab7",
   "metadata": {},
   "outputs": [
    {
     "data": {
      "text/html": [
       "<div>\n",
       "<style scoped>\n",
       "    .dataframe tbody tr th:only-of-type {\n",
       "        vertical-align: middle;\n",
       "    }\n",
       "\n",
       "    .dataframe tbody tr th {\n",
       "        vertical-align: top;\n",
       "    }\n",
       "\n",
       "    .dataframe thead th {\n",
       "        text-align: right;\n",
       "    }\n",
       "</style>\n",
       "<table border=\"1\" class=\"dataframe\">\n",
       "  <thead>\n",
       "    <tr style=\"text-align: right;\">\n",
       "      <th></th>\n",
       "      <th>CASENUM</th>\n",
       "      <th>ATTORNEY</th>\n",
       "      <th>CLMSEX</th>\n",
       "      <th>CLMINSUR</th>\n",
       "      <th>SEATBELT</th>\n",
       "      <th>CLMAGE</th>\n",
       "      <th>LOSS</th>\n",
       "    </tr>\n",
       "  </thead>\n",
       "  <tbody>\n",
       "    <tr>\n",
       "      <th>0</th>\n",
       "      <td>5</td>\n",
       "      <td>0</td>\n",
       "      <td>0.0</td>\n",
       "      <td>1.0</td>\n",
       "      <td>0.0</td>\n",
       "      <td>50.0</td>\n",
       "      <td>34.940</td>\n",
       "    </tr>\n",
       "    <tr>\n",
       "      <th>1</th>\n",
       "      <td>3</td>\n",
       "      <td>1</td>\n",
       "      <td>1.0</td>\n",
       "      <td>0.0</td>\n",
       "      <td>0.0</td>\n",
       "      <td>18.0</td>\n",
       "      <td>0.891</td>\n",
       "    </tr>\n",
       "    <tr>\n",
       "      <th>2</th>\n",
       "      <td>66</td>\n",
       "      <td>1</td>\n",
       "      <td>0.0</td>\n",
       "      <td>1.0</td>\n",
       "      <td>0.0</td>\n",
       "      <td>5.0</td>\n",
       "      <td>0.330</td>\n",
       "    </tr>\n",
       "    <tr>\n",
       "      <th>3</th>\n",
       "      <td>70</td>\n",
       "      <td>0</td>\n",
       "      <td>0.0</td>\n",
       "      <td>1.0</td>\n",
       "      <td>1.0</td>\n",
       "      <td>31.0</td>\n",
       "      <td>0.037</td>\n",
       "    </tr>\n",
       "    <tr>\n",
       "      <th>4</th>\n",
       "      <td>96</td>\n",
       "      <td>1</td>\n",
       "      <td>0.0</td>\n",
       "      <td>1.0</td>\n",
       "      <td>0.0</td>\n",
       "      <td>30.0</td>\n",
       "      <td>0.038</td>\n",
       "    </tr>\n",
       "    <tr>\n",
       "      <th>...</th>\n",
       "      <td>...</td>\n",
       "      <td>...</td>\n",
       "      <td>...</td>\n",
       "      <td>...</td>\n",
       "      <td>...</td>\n",
       "      <td>...</td>\n",
       "      <td>...</td>\n",
       "    </tr>\n",
       "    <tr>\n",
       "      <th>1335</th>\n",
       "      <td>34100</td>\n",
       "      <td>1</td>\n",
       "      <td>0.0</td>\n",
       "      <td>1.0</td>\n",
       "      <td>0.0</td>\n",
       "      <td>NaN</td>\n",
       "      <td>0.576</td>\n",
       "    </tr>\n",
       "    <tr>\n",
       "      <th>1336</th>\n",
       "      <td>34110</td>\n",
       "      <td>0</td>\n",
       "      <td>1.0</td>\n",
       "      <td>1.0</td>\n",
       "      <td>0.0</td>\n",
       "      <td>46.0</td>\n",
       "      <td>3.705</td>\n",
       "    </tr>\n",
       "    <tr>\n",
       "      <th>1337</th>\n",
       "      <td>34113</td>\n",
       "      <td>1</td>\n",
       "      <td>1.0</td>\n",
       "      <td>1.0</td>\n",
       "      <td>0.0</td>\n",
       "      <td>39.0</td>\n",
       "      <td>0.099</td>\n",
       "    </tr>\n",
       "    <tr>\n",
       "      <th>1338</th>\n",
       "      <td>34145</td>\n",
       "      <td>0</td>\n",
       "      <td>1.0</td>\n",
       "      <td>0.0</td>\n",
       "      <td>0.0</td>\n",
       "      <td>8.0</td>\n",
       "      <td>3.177</td>\n",
       "    </tr>\n",
       "    <tr>\n",
       "      <th>1339</th>\n",
       "      <td>34153</td>\n",
       "      <td>1</td>\n",
       "      <td>1.0</td>\n",
       "      <td>1.0</td>\n",
       "      <td>0.0</td>\n",
       "      <td>30.0</td>\n",
       "      <td>0.688</td>\n",
       "    </tr>\n",
       "  </tbody>\n",
       "</table>\n",
       "<p>1340 rows × 7 columns</p>\n",
       "</div>"
      ],
      "text/plain": [
       "      CASENUM  ATTORNEY  CLMSEX  CLMINSUR  SEATBELT  CLMAGE    LOSS\n",
       "0           5         0     0.0       1.0       0.0    50.0  34.940\n",
       "1           3         1     1.0       0.0       0.0    18.0   0.891\n",
       "2          66         1     0.0       1.0       0.0     5.0   0.330\n",
       "3          70         0     0.0       1.0       1.0    31.0   0.037\n",
       "4          96         1     0.0       1.0       0.0    30.0   0.038\n",
       "...       ...       ...     ...       ...       ...     ...     ...\n",
       "1335    34100         1     0.0       1.0       0.0     NaN   0.576\n",
       "1336    34110         0     1.0       1.0       0.0    46.0   3.705\n",
       "1337    34113         1     1.0       1.0       0.0    39.0   0.099\n",
       "1338    34145         0     1.0       0.0       0.0     8.0   3.177\n",
       "1339    34153         1     1.0       1.0       0.0    30.0   0.688\n",
       "\n",
       "[1340 rows x 7 columns]"
      ]
     },
     "execution_count": 2,
     "metadata": {},
     "output_type": "execute_result"
    }
   ],
   "source": [
    "df = pd.read_csv('claimants.csv')\n",
    "df"
   ]
  },
  {
   "cell_type": "code",
   "execution_count": 3,
   "id": "713f8707",
   "metadata": {},
   "outputs": [
    {
     "data": {
      "text/plain": [
       "(1340, 7)"
      ]
     },
     "execution_count": 3,
     "metadata": {},
     "output_type": "execute_result"
    }
   ],
   "source": [
    "df.shape   # the see total rows and columns"
   ]
  },
  {
   "cell_type": "code",
   "execution_count": 4,
   "id": "ddb9d305",
   "metadata": {},
   "outputs": [
    {
     "data": {
      "text/html": [
       "<div>\n",
       "<style scoped>\n",
       "    .dataframe tbody tr th:only-of-type {\n",
       "        vertical-align: middle;\n",
       "    }\n",
       "\n",
       "    .dataframe tbody tr th {\n",
       "        vertical-align: top;\n",
       "    }\n",
       "\n",
       "    .dataframe thead th {\n",
       "        text-align: right;\n",
       "    }\n",
       "</style>\n",
       "<table border=\"1\" class=\"dataframe\">\n",
       "  <thead>\n",
       "    <tr style=\"text-align: right;\">\n",
       "      <th></th>\n",
       "      <th>CASENUM</th>\n",
       "      <th>ATTORNEY</th>\n",
       "      <th>CLMSEX</th>\n",
       "      <th>CLMINSUR</th>\n",
       "      <th>SEATBELT</th>\n",
       "      <th>CLMAGE</th>\n",
       "      <th>LOSS</th>\n",
       "    </tr>\n",
       "  </thead>\n",
       "  <tbody>\n",
       "    <tr>\n",
       "      <th>count</th>\n",
       "      <td>1340.000000</td>\n",
       "      <td>1340.000000</td>\n",
       "      <td>1328.000000</td>\n",
       "      <td>1299.000000</td>\n",
       "      <td>1292.000000</td>\n",
       "      <td>1151.000000</td>\n",
       "      <td>1340.000000</td>\n",
       "    </tr>\n",
       "    <tr>\n",
       "      <th>mean</th>\n",
       "      <td>11202.001493</td>\n",
       "      <td>0.488806</td>\n",
       "      <td>0.558735</td>\n",
       "      <td>0.907621</td>\n",
       "      <td>0.017028</td>\n",
       "      <td>28.414422</td>\n",
       "      <td>3.806307</td>\n",
       "    </tr>\n",
       "    <tr>\n",
       "      <th>std</th>\n",
       "      <td>9512.750796</td>\n",
       "      <td>0.500061</td>\n",
       "      <td>0.496725</td>\n",
       "      <td>0.289671</td>\n",
       "      <td>0.129425</td>\n",
       "      <td>20.304451</td>\n",
       "      <td>10.636903</td>\n",
       "    </tr>\n",
       "    <tr>\n",
       "      <th>min</th>\n",
       "      <td>0.000000</td>\n",
       "      <td>0.000000</td>\n",
       "      <td>0.000000</td>\n",
       "      <td>0.000000</td>\n",
       "      <td>0.000000</td>\n",
       "      <td>0.000000</td>\n",
       "      <td>0.000000</td>\n",
       "    </tr>\n",
       "    <tr>\n",
       "      <th>25%</th>\n",
       "      <td>4177.000000</td>\n",
       "      <td>0.000000</td>\n",
       "      <td>0.000000</td>\n",
       "      <td>1.000000</td>\n",
       "      <td>0.000000</td>\n",
       "      <td>9.000000</td>\n",
       "      <td>0.400000</td>\n",
       "    </tr>\n",
       "    <tr>\n",
       "      <th>50%</th>\n",
       "      <td>8756.500000</td>\n",
       "      <td>0.000000</td>\n",
       "      <td>1.000000</td>\n",
       "      <td>1.000000</td>\n",
       "      <td>0.000000</td>\n",
       "      <td>30.000000</td>\n",
       "      <td>1.069500</td>\n",
       "    </tr>\n",
       "    <tr>\n",
       "      <th>75%</th>\n",
       "      <td>15702.500000</td>\n",
       "      <td>1.000000</td>\n",
       "      <td>1.000000</td>\n",
       "      <td>1.000000</td>\n",
       "      <td>0.000000</td>\n",
       "      <td>43.000000</td>\n",
       "      <td>3.781500</td>\n",
       "    </tr>\n",
       "    <tr>\n",
       "      <th>max</th>\n",
       "      <td>34153.000000</td>\n",
       "      <td>1.000000</td>\n",
       "      <td>1.000000</td>\n",
       "      <td>1.000000</td>\n",
       "      <td>1.000000</td>\n",
       "      <td>95.000000</td>\n",
       "      <td>173.604000</td>\n",
       "    </tr>\n",
       "  </tbody>\n",
       "</table>\n",
       "</div>"
      ],
      "text/plain": [
       "            CASENUM     ATTORNEY       CLMSEX     CLMINSUR     SEATBELT  \\\n",
       "count   1340.000000  1340.000000  1328.000000  1299.000000  1292.000000   \n",
       "mean   11202.001493     0.488806     0.558735     0.907621     0.017028   \n",
       "std     9512.750796     0.500061     0.496725     0.289671     0.129425   \n",
       "min        0.000000     0.000000     0.000000     0.000000     0.000000   \n",
       "25%     4177.000000     0.000000     0.000000     1.000000     0.000000   \n",
       "50%     8756.500000     0.000000     1.000000     1.000000     0.000000   \n",
       "75%    15702.500000     1.000000     1.000000     1.000000     0.000000   \n",
       "max    34153.000000     1.000000     1.000000     1.000000     1.000000   \n",
       "\n",
       "            CLMAGE         LOSS  \n",
       "count  1151.000000  1340.000000  \n",
       "mean     28.414422     3.806307  \n",
       "std      20.304451    10.636903  \n",
       "min       0.000000     0.000000  \n",
       "25%       9.000000     0.400000  \n",
       "50%      30.000000     1.069500  \n",
       "75%      43.000000     3.781500  \n",
       "max      95.000000   173.604000  "
      ]
     },
     "execution_count": 4,
     "metadata": {},
     "output_type": "execute_result"
    }
   ],
   "source": [
    "df.describe() # This will tell us percentile, count, mean, std, min and max range of the data"
   ]
  },
  {
   "cell_type": "code",
   "execution_count": 5,
   "id": "5feb7dd1",
   "metadata": {},
   "outputs": [
    {
     "name": "stdout",
     "output_type": "stream",
     "text": [
      "<class 'pandas.core.frame.DataFrame'>\n",
      "RangeIndex: 1340 entries, 0 to 1339\n",
      "Data columns (total 7 columns):\n",
      " #   Column    Non-Null Count  Dtype  \n",
      "---  ------    --------------  -----  \n",
      " 0   CASENUM   1340 non-null   int64  \n",
      " 1   ATTORNEY  1340 non-null   int64  \n",
      " 2   CLMSEX    1328 non-null   float64\n",
      " 3   CLMINSUR  1299 non-null   float64\n",
      " 4   SEATBELT  1292 non-null   float64\n",
      " 5   CLMAGE    1151 non-null   float64\n",
      " 6   LOSS      1340 non-null   float64\n",
      "dtypes: float64(5), int64(2)\n",
      "memory usage: 73.4 KB\n"
     ]
    }
   ],
   "source": [
    "df.info() # We can also see there are some missing values in the data"
   ]
  },
  {
   "cell_type": "code",
   "execution_count": 7,
   "id": "a12364d2",
   "metadata": {},
   "outputs": [
    {
     "data": {
      "text/plain": [
       "CASENUM       0\n",
       "ATTORNEY      0\n",
       "CLMSEX       12\n",
       "CLMINSUR     41\n",
       "SEATBELT     48\n",
       "CLMAGE      189\n",
       "LOSS          0\n",
       "dtype: int64"
      ]
     },
     "execution_count": 7,
     "metadata": {},
     "output_type": "execute_result"
    }
   ],
   "source": [
    "df.isnull().sum() # To see missing values by each columns"
   ]
  },
  {
   "cell_type": "code",
   "execution_count": 11,
   "id": "3460816d",
   "metadata": {},
   "outputs": [
    {
     "data": {
      "text/plain": [
       "CASENUM      0.00\n",
       "ATTORNEY     0.00\n",
       "CLMSEX       0.90\n",
       "CLMINSUR     3.06\n",
       "SEATBELT     3.58\n",
       "CLMAGE      14.10\n",
       "LOSS         0.00\n",
       "dtype: float64"
      ]
     },
     "execution_count": 11,
     "metadata": {},
     "output_type": "execute_result"
    }
   ],
   "source": [
    "round((df.isnull().sum() / df.shape[0]*100),2) # To see % of missing values by each column"
   ]
  },
  {
   "cell_type": "markdown",
   "id": "b3b61a22",
   "metadata": {},
   "source": [
    "There is around 1% missing value in `CLMSEX` column, 3% in `CLMINSUR` column, 3.58% in `SEATBELT` column and 14.10% in `CLMAGE` column. \n",
    "We will transform this data to exclude missing value"
   ]
  },
  {
   "cell_type": "markdown",
   "id": "dcbab4ff",
   "metadata": {},
   "source": [
    "Let's visualize our data to understand it better"
   ]
  },
  {
   "cell_type": "code",
   "execution_count": 12,
   "id": "833422d7",
   "metadata": {},
   "outputs": [
    {
     "data": {
      "text/plain": [
       "Index(['CASENUM', 'ATTORNEY', 'CLMSEX', 'CLMINSUR', 'SEATBELT', 'CLMAGE',\n",
       "       'LOSS'],\n",
       "      dtype='object')"
      ]
     },
     "execution_count": 12,
     "metadata": {},
     "output_type": "execute_result"
    }
   ],
   "source": [
    "df.columns"
   ]
  },
  {
   "cell_type": "code",
   "execution_count": 14,
   "id": "77343ae5",
   "metadata": {},
   "outputs": [
    {
     "data": {
      "text/plain": [
       "<AxesSubplot:xlabel='CLMSEX', ylabel='Count'>"
      ]
     },
     "execution_count": 14,
     "metadata": {},
     "output_type": "execute_result"
    },
    {
     "data": {
      "image/png": "[encoded data removed]",
      "text/plain": [
       "<Figure size 432x288 with 1 Axes>"
      ]
     },
     "metadata": {
      "needs_background": "light"
     },
     "output_type": "display_data"
    }
   ],
   "source": [
    "sns.histplot(df['CLMSEX'])"
   ]
  },
  {
   "cell_type": "code",
   "execution_count": 15,
   "id": "780c528a",
   "metadata": {},
   "outputs": [
    {
     "data": {
      "text/plain": [
       "<AxesSubplot:xlabel='CLMAGE', ylabel='Count'>"
      ]
     },
     "execution_count": 15,
     "metadata": {},
     "output_type": "execute_result"
    },
    {
     "data": {
      "image/png": "[encoded data removed]",
      "text/plain": [
       "<Figure size 432x288 with 1 Axes>"
      ]
     },
     "metadata": {
      "needs_background": "light"
     },
     "output_type": "display_data"
    }
   ],
   "source": [
    "sns.histplot(df['CLMAGE'])"
   ]
  },
  {
   "cell_type": "code",
   "execution_count": 27,
   "id": "c98ddac9",
   "metadata": {},
   "outputs": [
    {
     "data": {
      "text/plain": [
       "<AxesSubplot:xlabel='CLMINSUR', ylabel='Count'>"
      ]
     },
     "execution_count": 27,
     "metadata": {},
     "output_type": "execute_result"
    },
    {
     "data": {
      "image/png": "[encoded data removed]",
      "text/plain": [
       "<Figure size 432x288 with 1 Axes>"
      ]
     },
     "metadata": {
      "needs_background": "light"
     },
     "output_type": "display_data"
    }
   ],
   "source": [
    "sns.histplot(df['CLMINSUR'])"
   ]
  },
  {
   "cell_type": "code",
   "execution_count": 16,
   "id": "4312491a",
   "metadata": {},
   "outputs": [
    {
     "data": {
      "text/plain": [
       "<AxesSubplot:xlabel='SEATBELT', ylabel='Count'>"
      ]
     },
     "execution_count": 16,
     "metadata": {},
     "output_type": "execute_result"
    },
    {
     "data": {
      "image/png": "[encoded data removed]",
      "text/plain": [
       "<Figure size 432x288 with 1 Axes>"
      ]
     },
     "metadata": {
      "needs_background": "light"
     },
     "output_type": "display_data"
    }
   ],
   "source": [
    "sns.histplot(df['SEATBELT'])"
   ]
  },
  {
   "cell_type": "code",
   "execution_count": 17,
   "id": "68dcd62e",
   "metadata": {},
   "outputs": [
    {
     "data": {
      "text/plain": [
       "<AxesSubplot:xlabel='ATTORNEY', ylabel='Count'>"
      ]
     },
     "execution_count": 17,
     "metadata": {},
     "output_type": "execute_result"
    },
    {
     "data": {
      "image/png": "[encoded data removed]",
      "text/plain": [
       "<Figure size 432x288 with 1 Axes>"
      ]
     },
     "metadata": {
      "needs_background": "light"
     },
     "output_type": "display_data"
    }
   ],
   "source": [
    "sns.histplot(df['ATTORNEY'])"
   ]
  },
  {
   "cell_type": "code",
   "execution_count": 18,
   "id": "eccb08ce",
   "metadata": {},
   "outputs": [
    {
     "data": {
      "text/plain": [
       "<AxesSubplot:xlabel='LOSS', ylabel='Count'>"
      ]
     },
     "execution_count": 18,
     "metadata": {},
     "output_type": "execute_result"
    },
    {
     "data": {
      "image/png": "[encoded data removed]",
      "text/plain": [
       "<Figure size 432x288 with 1 Axes>"
      ]
     },
     "metadata": {
      "needs_background": "light"
     },
     "output_type": "display_data"
    }
   ],
   "source": [
    "sns.histplot(df['LOSS'])"
   ]
  },
  {
   "cell_type": "code",
   "execution_count": 19,
   "id": "69198d28",
   "metadata": {},
   "outputs": [
    {
     "name": "stderr",
     "output_type": "stream",
     "text": [
      "C:\\Users\\jaich\\anaconda3\\lib\\site-packages\\seaborn\\_decorators.py:36: FutureWarning: Pass the following variable as a keyword arg: x. From version 0.12, the only valid positional argument will be `data`, and passing other arguments without an explicit keyword will result in an error or misinterpretation.\n",
      "  warnings.warn(\n"
     ]
    },
    {
     "data": {
      "text/plain": [
       "<AxesSubplot:xlabel='LOSS'>"
      ]
     },
     "execution_count": 19,
     "metadata": {},
     "output_type": "execute_result"
    },
    {
     "data": {
      "image/png": "[encoded data removed]",
      "text/plain": [
       "<Figure size 432x288 with 1 Axes>"
      ]
     },
     "metadata": {
      "needs_background": "light"
     },
     "output_type": "display_data"
    }
   ],
   "source": [
    "sns.boxplot(df['LOSS'])"
   ]
  },
  {
   "cell_type": "code",
   "execution_count": 26,
   "id": "93e843aa",
   "metadata": {},
   "outputs": [
    {
     "data": {
      "text/html": [
       "<style  type=\"text/css\" >\n",
       "#T_2a256_row0_col0,#T_2a256_row1_col1,#T_2a256_row2_col2,#T_2a256_row3_col3,#T_2a256_row4_col4,#T_2a256_row5_col5,#T_2a256_row6_col6{\n",
       "            background-color:  #b40426;\n",
       "            color:  #f1f1f1;\n",
       "        }#T_2a256_row0_col1,#T_2a256_row5_col1{\n",
       "            background-color:  #779af7;\n",
       "            color:  #000000;\n",
       "        }#T_2a256_row0_col2{\n",
       "            background-color:  #4a63d3;\n",
       "            color:  #f1f1f1;\n",
       "        }#T_2a256_row0_col3,#T_2a256_row2_col4{\n",
       "            background-color:  #465ecf;\n",
       "            color:  #f1f1f1;\n",
       "        }#T_2a256_row0_col4,#T_2a256_row5_col0,#T_2a256_row5_col3{\n",
       "            background-color:  #485fd1;\n",
       "            color:  #f1f1f1;\n",
       "        }#T_2a256_row0_col5{\n",
       "            background-color:  #4257c9;\n",
       "            color:  #f1f1f1;\n",
       "        }#T_2a256_row0_col6{\n",
       "            background-color:  #6687ed;\n",
       "            color:  #000000;\n",
       "        }#T_2a256_row1_col0{\n",
       "            background-color:  #4b64d5;\n",
       "            color:  #f1f1f1;\n",
       "        }#T_2a256_row1_col2{\n",
       "            background-color:  #5a78e4;\n",
       "            color:  #000000;\n",
       "        }#T_2a256_row1_col3,#T_2a256_row2_col0,#T_2a256_row3_col4{\n",
       "            background-color:  #506bda;\n",
       "            color:  #000000;\n",
       "        }#T_2a256_row1_col4,#T_2a256_row1_col6,#T_2a256_row4_col5,#T_2a256_row6_col0,#T_2a256_row6_col1,#T_2a256_row6_col2,#T_2a256_row6_col3{\n",
       "            background-color:  #3b4cc0;\n",
       "            color:  #f1f1f1;\n",
       "        }#T_2a256_row1_col5,#T_2a256_row4_col0{\n",
       "            background-color:  #455cce;\n",
       "            color:  #f1f1f1;\n",
       "        }#T_2a256_row2_col1,#T_2a256_row3_col1{\n",
       "            background-color:  #8badfd;\n",
       "            color:  #000000;\n",
       "        }#T_2a256_row2_col3{\n",
       "            background-color:  #4c66d6;\n",
       "            color:  #000000;\n",
       "        }#T_2a256_row2_col5,#T_2a256_row5_col2{\n",
       "            background-color:  #3c4ec2;\n",
       "            color:  #f1f1f1;\n",
       "        }#T_2a256_row2_col6,#T_2a256_row6_col4{\n",
       "            background-color:  #6c8ff1;\n",
       "            color:  #000000;\n",
       "        }#T_2a256_row3_col0,#T_2a256_row3_col2,#T_2a256_row6_col5{\n",
       "            background-color:  #5673e0;\n",
       "            color:  #000000;\n",
       "        }#T_2a256_row3_col5{\n",
       "            background-color:  #516ddb;\n",
       "            color:  #000000;\n",
       "        }#T_2a256_row3_col6{\n",
       "            background-color:  #7699f6;\n",
       "            color:  #000000;\n",
       "        }#T_2a256_row4_col1{\n",
       "            background-color:  #6485ec;\n",
       "            color:  #000000;\n",
       "        }#T_2a256_row4_col2,#T_2a256_row4_col3{\n",
       "            background-color:  #3e51c5;\n",
       "            color:  #f1f1f1;\n",
       "        }#T_2a256_row4_col6{\n",
       "            background-color:  #94b6ff;\n",
       "            color:  #000000;\n",
       "        }#T_2a256_row5_col4{\n",
       "            background-color:  #4358cb;\n",
       "            color:  #f1f1f1;\n",
       "        }#T_2a256_row5_col6{\n",
       "            background-color:  #86a9fc;\n",
       "            color:  #000000;\n",
       "        }</style><table id=\"T_2a256_\" ><thead>    <tr>        <th class=\"blank level0\" ></th>        <th class=\"col_heading level0 col0\" >CASENUM</th>        <th class=\"col_heading level0 col1\" >ATTORNEY</th>        <th class=\"col_heading level0 col2\" >CLMSEX</th>        <th class=\"col_heading level0 col3\" >CLMINSUR</th>        <th class=\"col_heading level0 col4\" >SEATBELT</th>        <th class=\"col_heading level0 col5\" >CLMAGE</th>        <th class=\"col_heading level0 col6\" >LOSS</th>    </tr></thead><tbody>\n",
       "                <tr>\n",
       "                        <th id=\"T_2a256_level0_row0\" class=\"row_heading level0 row0\" >CASENUM</th>\n",
       "                        <td id=\"T_2a256_row0_col0\" class=\"data row0 col0\" >1.00</td>\n",
       "                        <td id=\"T_2a256_row0_col1\" class=\"data row0 col1\" >0.01</td>\n",
       "                        <td id=\"T_2a256_row0_col2\" class=\"data row0 col2\" >0.03</td>\n",
       "                        <td id=\"T_2a256_row0_col3\" class=\"data row0 col3\" >0.05</td>\n",
       "                        <td id=\"T_2a256_row0_col4\" class=\"data row0 col4\" >-0.01</td>\n",
       "                        <td id=\"T_2a256_row0_col5\" class=\"data row0 col5\" >-0.00</td>\n",
       "                        <td id=\"T_2a256_row0_col6\" class=\"data row0 col6\" >-0.05</td>\n",
       "            </tr>\n",
       "            <tr>\n",
       "                        <th id=\"T_2a256_level0_row1\" class=\"row_heading level0 row1\" >ATTORNEY</th>\n",
       "                        <td id=\"T_2a256_row1_col0\" class=\"data row1 col0\" >0.01</td>\n",
       "                        <td id=\"T_2a256_row1_col1\" class=\"data row1 col1\" >1.00</td>\n",
       "                        <td id=\"T_2a256_row1_col2\" class=\"data row1 col2\" >0.08</td>\n",
       "                        <td id=\"T_2a256_row1_col3\" class=\"data row1 col3\" >0.08</td>\n",
       "                        <td id=\"T_2a256_row1_col4\" class=\"data row1 col4\" >-0.06</td>\n",
       "                        <td id=\"T_2a256_row1_col5\" class=\"data row1 col5\" >0.01</td>\n",
       "                        <td id=\"T_2a256_row1_col6\" class=\"data row1 col6\" >-0.22</td>\n",
       "            </tr>\n",
       "            <tr>\n",
       "                        <th id=\"T_2a256_level0_row2\" class=\"row_heading level0 row2\" >CLMSEX</th>\n",
       "                        <td id=\"T_2a256_row2_col0\" class=\"data row2 col0\" >0.03</td>\n",
       "                        <td id=\"T_2a256_row2_col1\" class=\"data row2 col1\" >0.08</td>\n",
       "                        <td id=\"T_2a256_row2_col2\" class=\"data row2 col2\" >1.00</td>\n",
       "                        <td id=\"T_2a256_row2_col3\" class=\"data row2 col3\" >0.07</td>\n",
       "                        <td id=\"T_2a256_row2_col4\" class=\"data row2 col4\" >-0.02</td>\n",
       "                        <td id=\"T_2a256_row2_col5\" class=\"data row2 col5\" >-0.02</td>\n",
       "                        <td id=\"T_2a256_row2_col6\" class=\"data row2 col6\" >-0.03</td>\n",
       "            </tr>\n",
       "            <tr>\n",
       "                        <th id=\"T_2a256_level0_row3\" class=\"row_heading level0 row3\" >CLMINSUR</th>\n",
       "                        <td id=\"T_2a256_row3_col0\" class=\"data row3 col0\" >0.05</td>\n",
       "                        <td id=\"T_2a256_row3_col1\" class=\"data row3 col1\" >0.08</td>\n",
       "                        <td id=\"T_2a256_row3_col2\" class=\"data row3 col2\" >0.07</td>\n",
       "                        <td id=\"T_2a256_row3_col3\" class=\"data row3 col3\" >1.00</td>\n",
       "                        <td id=\"T_2a256_row3_col4\" class=\"data row3 col4\" >0.02</td>\n",
       "                        <td id=\"T_2a256_row3_col5\" class=\"data row3 col5\" >0.05</td>\n",
       "                        <td id=\"T_2a256_row3_col6\" class=\"data row3 col6\" >0.01</td>\n",
       "            </tr>\n",
       "            <tr>\n",
       "                        <th id=\"T_2a256_level0_row4\" class=\"row_heading level0 row4\" >SEATBELT</th>\n",
       "                        <td id=\"T_2a256_row4_col0\" class=\"data row4 col0\" >-0.01</td>\n",
       "                        <td id=\"T_2a256_row4_col1\" class=\"data row4 col1\" >-0.06</td>\n",
       "                        <td id=\"T_2a256_row4_col2\" class=\"data row4 col2\" >-0.02</td>\n",
       "                        <td id=\"T_2a256_row4_col3\" class=\"data row4 col3\" >0.02</td>\n",
       "                        <td id=\"T_2a256_row4_col4\" class=\"data row4 col4\" >1.00</td>\n",
       "                        <td id=\"T_2a256_row4_col5\" class=\"data row4 col5\" >-0.03</td>\n",
       "                        <td id=\"T_2a256_row4_col6\" class=\"data row4 col6\" >0.11</td>\n",
       "            </tr>\n",
       "            <tr>\n",
       "                        <th id=\"T_2a256_level0_row5\" class=\"row_heading level0 row5\" >CLMAGE</th>\n",
       "                        <td id=\"T_2a256_row5_col0\" class=\"data row5 col0\" >-0.00</td>\n",
       "                        <td id=\"T_2a256_row5_col1\" class=\"data row5 col1\" >0.01</td>\n",
       "                        <td id=\"T_2a256_row5_col2\" class=\"data row5 col2\" >-0.02</td>\n",
       "                        <td id=\"T_2a256_row5_col3\" class=\"data row5 col3\" >0.05</td>\n",
       "                        <td id=\"T_2a256_row5_col4\" class=\"data row5 col4\" >-0.03</td>\n",
       "                        <td id=\"T_2a256_row5_col5\" class=\"data row5 col5\" >1.00</td>\n",
       "                        <td id=\"T_2a256_row5_col6\" class=\"data row5 col6\" >0.06</td>\n",
       "            </tr>\n",
       "            <tr>\n",
       "                        <th id=\"T_2a256_level0_row6\" class=\"row_heading level0 row6\" >LOSS</th>\n",
       "                        <td id=\"T_2a256_row6_col0\" class=\"data row6 col0\" >-0.05</td>\n",
       "                        <td id=\"T_2a256_row6_col1\" class=\"data row6 col1\" >-0.22</td>\n",
       "                        <td id=\"T_2a256_row6_col2\" class=\"data row6 col2\" >-0.03</td>\n",
       "                        <td id=\"T_2a256_row6_col3\" class=\"data row6 col3\" >0.01</td>\n",
       "                        <td id=\"T_2a256_row6_col4\" class=\"data row6 col4\" >0.11</td>\n",
       "                        <td id=\"T_2a256_row6_col5\" class=\"data row6 col5\" >0.06</td>\n",
       "                        <td id=\"T_2a256_row6_col6\" class=\"data row6 col6\" >1.00</td>\n",
       "            </tr>\n",
       "    </tbody></table>"
      ],
      "text/plain": [
       "<pandas.io.formats.style.Styler at 0x24f882aac40>"
      ]
     },
     "execution_count": 26,
     "metadata": {},
     "output_type": "execute_result"
    }
   ],
   "source": [
    "corr = df.corr()\n",
    "corr.style.background_gradient(cmap='coolwarm').set_precision(2) # This will show correlation between all columns in df"
   ]
  },
  {
   "cell_type": "markdown",
   "id": "6db2dde9",
   "metadata": {},
   "source": [
    "'CLMSEX', 'CLMINSUR', 'SEATBELT', 'CLMAGE' columns have missing value out which - Apart from Age all others have 1 or 0 values"
   ]
  },
  {
   "cell_type": "markdown",
   "id": "d6d6be43",
   "metadata": {},
   "source": [
    "We will impute these values based on mode and for Age we will use Mean and Median method"
   ]
  },
  {
   "cell_type": "code",
   "execution_count": 28,
   "id": "9453c98e",
   "metadata": {},
   "outputs": [],
   "source": [
    "from sklearn.impute import SimpleImputer # Calling our SimpleImputer function"
   ]
  },
  {
   "cell_type": "code",
   "execution_count": 29,
   "id": "f89578fd",
   "metadata": {},
   "outputs": [
    {
     "data": {
      "text/plain": [
       "CASENUM       0\n",
       "ATTORNEY      0\n",
       "CLMSEX        0\n",
       "CLMINSUR     41\n",
       "SEATBELT     48\n",
       "CLMAGE      189\n",
       "LOSS          0\n",
       "dtype: int64"
      ]
     },
     "execution_count": 29,
     "metadata": {},
     "output_type": "execute_result"
    }
   ],
   "source": [
    "mode_imputer = SimpleImputer(missing_values=np.nan, strategy='most_frequent') # Since it is Mode so we are using most frequency\n",
    "df['CLMSEX'] = pd.DataFrame(mode_imputer.fit_transform(df[['CLMSEX']])) # Assining it to our CLMSEX column\n",
    "df.isnull().sum() # All Nan values are replaced with mode of the data"
   ]
  },
  {
   "cell_type": "markdown",
   "id": "5449699d",
   "metadata": {},
   "source": [
    "We will continue with Mode imputer for CLIMSUR and SEATBELT column"
   ]
  },
  {
   "cell_type": "code",
   "execution_count": 33,
   "id": "d3475ed2",
   "metadata": {},
   "outputs": [
    {
     "data": {
      "text/plain": [
       "CASENUM       0\n",
       "ATTORNEY      0\n",
       "CLMSEX        0\n",
       "CLMINSUR      0\n",
       "SEATBELT      0\n",
       "CLMAGE      189\n",
       "LOSS          0\n",
       "dtype: int64"
      ]
     },
     "execution_count": 33,
     "metadata": {},
     "output_type": "execute_result"
    }
   ],
   "source": [
    "df['CLMINSUR'] = pd.DataFrame(mode_imputer.fit_transform(df[['CLMINSUR']]))\n",
    "df['SEATBELT'] = pd.DataFrame(mode_imputer.fit_transform(df[['SEATBELT']]))\n",
    "df.isnull().sum()"
   ]
  },
  {
   "cell_type": "markdown",
   "id": "1ffe0302",
   "metadata": {},
   "source": [
    "With Mode Imputation we have replaced all missing values with the mode of the column"
   ]
  },
  {
   "cell_type": "markdown",
   "id": "8abc4946",
   "metadata": {},
   "source": [
    "For CLMAGE we will use two method, one is mean and another is median"
   ]
  },
  {
   "cell_type": "code",
   "execution_count": 36,
   "id": "c42c4097",
   "metadata": {},
   "outputs": [
    {
     "data": {
      "text/plain": [
       "count    1151.000000\n",
       "mean       28.414422\n",
       "std        20.304451\n",
       "min         0.000000\n",
       "25%         9.000000\n",
       "50%        30.000000\n",
       "75%        43.000000\n",
       "max        95.000000\n",
       "Name: CLMAGE, dtype: float64"
      ]
     },
     "execution_count": 36,
     "metadata": {},
     "output_type": "execute_result"
    }
   ],
   "source": [
    "df['CLMAGE'].describe() # The difference between Mean and Median is of 2 years let see if this column has any outliers"
   ]
  },
  {
   "cell_type": "code",
   "execution_count": 37,
   "id": "82f6470d",
   "metadata": {},
   "outputs": [
    {
     "name": "stderr",
     "output_type": "stream",
     "text": [
      "C:\\Users\\jaich\\anaconda3\\lib\\site-packages\\seaborn\\_decorators.py:36: FutureWarning: Pass the following variable as a keyword arg: x. From version 0.12, the only valid positional argument will be `data`, and passing other arguments without an explicit keyword will result in an error or misinterpretation.\n",
      "  warnings.warn(\n"
     ]
    },
    {
     "data": {
      "text/plain": [
       "<AxesSubplot:xlabel='CLMAGE'>"
      ]
     },
     "execution_count": 37,
     "metadata": {},
     "output_type": "execute_result"
    },
    {
     "data": {
      "image/png": "[encoded data removed]",
      "text/plain": [
       "<Figure size 432x288 with 1 Axes>"
      ]
     },
     "metadata": {
      "needs_background": "light"
     },
     "output_type": "display_data"
    }
   ],
   "source": [
    "sns.boxplot(df['CLMAGE'])"
   ]
  },
  {
   "cell_type": "markdown",
   "id": "79d5e71c",
   "metadata": {},
   "source": [
    "There is atleast one value which is outlier, lets see at which Index this value is located in our dataset"
   ]
  },
  {
   "cell_type": "code",
   "execution_count": 43,
   "id": "b32a0f4b",
   "metadata": {},
   "outputs": [],
   "source": [
    "Maxcolumn = df[df['CLMAGE']==95]"
   ]
  },
  {
   "cell_type": "code",
   "execution_count": 44,
   "id": "821c3ce6",
   "metadata": {},
   "outputs": [
    {
     "data": {
      "text/html": [
       "<div>\n",
       "<style scoped>\n",
       "    .dataframe tbody tr th:only-of-type {\n",
       "        vertical-align: middle;\n",
       "    }\n",
       "\n",
       "    .dataframe tbody tr th {\n",
       "        vertical-align: top;\n",
       "    }\n",
       "\n",
       "    .dataframe thead th {\n",
       "        text-align: right;\n",
       "    }\n",
       "</style>\n",
       "<table border=\"1\" class=\"dataframe\">\n",
       "  <thead>\n",
       "    <tr style=\"text-align: right;\">\n",
       "      <th></th>\n",
       "      <th>CASENUM</th>\n",
       "      <th>ATTORNEY</th>\n",
       "      <th>CLMSEX</th>\n",
       "      <th>CLMINSUR</th>\n",
       "      <th>SEATBELT</th>\n",
       "      <th>CLMAGE</th>\n",
       "      <th>LOSS</th>\n",
       "    </tr>\n",
       "  </thead>\n",
       "  <tbody>\n",
       "    <tr>\n",
       "      <th>635</th>\n",
       "      <td>6585</td>\n",
       "      <td>0</td>\n",
       "      <td>0.0</td>\n",
       "      <td>1.0</td>\n",
       "      <td>0.0</td>\n",
       "      <td>95.0</td>\n",
       "      <td>0.08</td>\n",
       "    </tr>\n",
       "  </tbody>\n",
       "</table>\n",
       "</div>"
      ],
      "text/plain": [
       "     CASENUM  ATTORNEY  CLMSEX  CLMINSUR  SEATBELT  CLMAGE  LOSS\n",
       "635     6585         0     0.0       1.0       0.0    95.0  0.08"
      ]
     },
     "execution_count": 44,
     "metadata": {},
     "output_type": "execute_result"
    }
   ],
   "source": [
    "Maxcolumn"
   ]
  },
  {
   "cell_type": "markdown",
   "id": "bc9a4ed4",
   "metadata": {},
   "source": [
    "The max value is at 635 Index, lets see if we can drop this index"
   ]
  },
  {
   "cell_type": "code",
   "execution_count": 46,
   "id": "229712d8",
   "metadata": {},
   "outputs": [],
   "source": [
    "data = df.drop(index=635)"
   ]
  },
  {
   "cell_type": "code",
   "execution_count": 47,
   "id": "50cc21f2",
   "metadata": {},
   "outputs": [
    {
     "data": {
      "text/html": [
       "<div>\n",
       "<style scoped>\n",
       "    .dataframe tbody tr th:only-of-type {\n",
       "        vertical-align: middle;\n",
       "    }\n",
       "\n",
       "    .dataframe tbody tr th {\n",
       "        vertical-align: top;\n",
       "    }\n",
       "\n",
       "    .dataframe thead th {\n",
       "        text-align: right;\n",
       "    }\n",
       "</style>\n",
       "<table border=\"1\" class=\"dataframe\">\n",
       "  <thead>\n",
       "    <tr style=\"text-align: right;\">\n",
       "      <th></th>\n",
       "      <th>CASENUM</th>\n",
       "      <th>ATTORNEY</th>\n",
       "      <th>CLMSEX</th>\n",
       "      <th>CLMINSUR</th>\n",
       "      <th>SEATBELT</th>\n",
       "      <th>CLMAGE</th>\n",
       "      <th>LOSS</th>\n",
       "    </tr>\n",
       "  </thead>\n",
       "  <tbody>\n",
       "    <tr>\n",
       "      <th>0</th>\n",
       "      <td>5</td>\n",
       "      <td>0</td>\n",
       "      <td>0.0</td>\n",
       "      <td>1.0</td>\n",
       "      <td>0.0</td>\n",
       "      <td>50.0</td>\n",
       "      <td>34.940</td>\n",
       "    </tr>\n",
       "    <tr>\n",
       "      <th>1</th>\n",
       "      <td>3</td>\n",
       "      <td>1</td>\n",
       "      <td>1.0</td>\n",
       "      <td>0.0</td>\n",
       "      <td>0.0</td>\n",
       "      <td>18.0</td>\n",
       "      <td>0.891</td>\n",
       "    </tr>\n",
       "    <tr>\n",
       "      <th>2</th>\n",
       "      <td>66</td>\n",
       "      <td>1</td>\n",
       "      <td>0.0</td>\n",
       "      <td>1.0</td>\n",
       "      <td>0.0</td>\n",
       "      <td>5.0</td>\n",
       "      <td>0.330</td>\n",
       "    </tr>\n",
       "    <tr>\n",
       "      <th>3</th>\n",
       "      <td>70</td>\n",
       "      <td>0</td>\n",
       "      <td>0.0</td>\n",
       "      <td>1.0</td>\n",
       "      <td>1.0</td>\n",
       "      <td>31.0</td>\n",
       "      <td>0.037</td>\n",
       "    </tr>\n",
       "    <tr>\n",
       "      <th>4</th>\n",
       "      <td>96</td>\n",
       "      <td>1</td>\n",
       "      <td>0.0</td>\n",
       "      <td>1.0</td>\n",
       "      <td>0.0</td>\n",
       "      <td>30.0</td>\n",
       "      <td>0.038</td>\n",
       "    </tr>\n",
       "    <tr>\n",
       "      <th>...</th>\n",
       "      <td>...</td>\n",
       "      <td>...</td>\n",
       "      <td>...</td>\n",
       "      <td>...</td>\n",
       "      <td>...</td>\n",
       "      <td>...</td>\n",
       "      <td>...</td>\n",
       "    </tr>\n",
       "    <tr>\n",
       "      <th>1335</th>\n",
       "      <td>34100</td>\n",
       "      <td>1</td>\n",
       "      <td>0.0</td>\n",
       "      <td>1.0</td>\n",
       "      <td>0.0</td>\n",
       "      <td>NaN</td>\n",
       "      <td>0.576</td>\n",
       "    </tr>\n",
       "    <tr>\n",
       "      <th>1336</th>\n",
       "      <td>34110</td>\n",
       "      <td>0</td>\n",
       "      <td>1.0</td>\n",
       "      <td>1.0</td>\n",
       "      <td>0.0</td>\n",
       "      <td>46.0</td>\n",
       "      <td>3.705</td>\n",
       "    </tr>\n",
       "    <tr>\n",
       "      <th>1337</th>\n",
       "      <td>34113</td>\n",
       "      <td>1</td>\n",
       "      <td>1.0</td>\n",
       "      <td>1.0</td>\n",
       "      <td>0.0</td>\n",
       "      <td>39.0</td>\n",
       "      <td>0.099</td>\n",
       "    </tr>\n",
       "    <tr>\n",
       "      <th>1338</th>\n",
       "      <td>34145</td>\n",
       "      <td>0</td>\n",
       "      <td>1.0</td>\n",
       "      <td>0.0</td>\n",
       "      <td>0.0</td>\n",
       "      <td>8.0</td>\n",
       "      <td>3.177</td>\n",
       "    </tr>\n",
       "    <tr>\n",
       "      <th>1339</th>\n",
       "      <td>34153</td>\n",
       "      <td>1</td>\n",
       "      <td>1.0</td>\n",
       "      <td>1.0</td>\n",
       "      <td>0.0</td>\n",
       "      <td>30.0</td>\n",
       "      <td>0.688</td>\n",
       "    </tr>\n",
       "  </tbody>\n",
       "</table>\n",
       "<p>1339 rows × 7 columns</p>\n",
       "</div>"
      ],
      "text/plain": [
       "      CASENUM  ATTORNEY  CLMSEX  CLMINSUR  SEATBELT  CLMAGE    LOSS\n",
       "0           5         0     0.0       1.0       0.0    50.0  34.940\n",
       "1           3         1     1.0       0.0       0.0    18.0   0.891\n",
       "2          66         1     0.0       1.0       0.0     5.0   0.330\n",
       "3          70         0     0.0       1.0       1.0    31.0   0.037\n",
       "4          96         1     0.0       1.0       0.0    30.0   0.038\n",
       "...       ...       ...     ...       ...       ...     ...     ...\n",
       "1335    34100         1     0.0       1.0       0.0     NaN   0.576\n",
       "1336    34110         0     1.0       1.0       0.0    46.0   3.705\n",
       "1337    34113         1     1.0       1.0       0.0    39.0   0.099\n",
       "1338    34145         0     1.0       0.0       0.0     8.0   3.177\n",
       "1339    34153         1     1.0       1.0       0.0    30.0   0.688\n",
       "\n",
       "[1339 rows x 7 columns]"
      ]
     },
     "execution_count": 47,
     "metadata": {},
     "output_type": "execute_result"
    }
   ],
   "source": [
    "data"
   ]
  },
  {
   "cell_type": "code",
   "execution_count": 48,
   "id": "7831934d",
   "metadata": {},
   "outputs": [
    {
     "data": {
      "text/html": [
       "<div>\n",
       "<style scoped>\n",
       "    .dataframe tbody tr th:only-of-type {\n",
       "        vertical-align: middle;\n",
       "    }\n",
       "\n",
       "    .dataframe tbody tr th {\n",
       "        vertical-align: top;\n",
       "    }\n",
       "\n",
       "    .dataframe thead th {\n",
       "        text-align: right;\n",
       "    }\n",
       "</style>\n",
       "<table border=\"1\" class=\"dataframe\">\n",
       "  <thead>\n",
       "    <tr style=\"text-align: right;\">\n",
       "      <th></th>\n",
       "      <th>CASENUM</th>\n",
       "      <th>ATTORNEY</th>\n",
       "      <th>CLMSEX</th>\n",
       "      <th>CLMINSUR</th>\n",
       "      <th>SEATBELT</th>\n",
       "      <th>CLMAGE</th>\n",
       "      <th>LOSS</th>\n",
       "    </tr>\n",
       "  </thead>\n",
       "  <tbody>\n",
       "    <tr>\n",
       "      <th>count</th>\n",
       "      <td>1339.000000</td>\n",
       "      <td>1339.000000</td>\n",
       "      <td>1339.000000</td>\n",
       "      <td>1339.000000</td>\n",
       "      <td>1339.00000</td>\n",
       "      <td>1150.000000</td>\n",
       "      <td>1339.000000</td>\n",
       "    </tr>\n",
       "    <tr>\n",
       "      <th>mean</th>\n",
       "      <td>11205.449589</td>\n",
       "      <td>0.489171</td>\n",
       "      <td>0.563107</td>\n",
       "      <td>0.910381</td>\n",
       "      <td>0.01643</td>\n",
       "      <td>28.356522</td>\n",
       "      <td>3.809090</td>\n",
       "    </tr>\n",
       "    <tr>\n",
       "      <th>std</th>\n",
       "      <td>9515.467232</td>\n",
       "      <td>0.500069</td>\n",
       "      <td>0.496187</td>\n",
       "      <td>0.285742</td>\n",
       "      <td>0.12717</td>\n",
       "      <td>20.217999</td>\n",
       "      <td>10.640389</td>\n",
       "    </tr>\n",
       "    <tr>\n",
       "      <th>min</th>\n",
       "      <td>0.000000</td>\n",
       "      <td>0.000000</td>\n",
       "      <td>0.000000</td>\n",
       "      <td>0.000000</td>\n",
       "      <td>0.00000</td>\n",
       "      <td>0.000000</td>\n",
       "      <td>0.000000</td>\n",
       "    </tr>\n",
       "    <tr>\n",
       "      <th>25%</th>\n",
       "      <td>4175.000000</td>\n",
       "      <td>0.000000</td>\n",
       "      <td>0.000000</td>\n",
       "      <td>1.000000</td>\n",
       "      <td>0.00000</td>\n",
       "      <td>9.000000</td>\n",
       "      <td>0.400500</td>\n",
       "    </tr>\n",
       "    <tr>\n",
       "      <th>50%</th>\n",
       "      <td>8765.000000</td>\n",
       "      <td>0.000000</td>\n",
       "      <td>1.000000</td>\n",
       "      <td>1.000000</td>\n",
       "      <td>0.00000</td>\n",
       "      <td>30.000000</td>\n",
       "      <td>1.070000</td>\n",
       "    </tr>\n",
       "    <tr>\n",
       "      <th>75%</th>\n",
       "      <td>15712.000000</td>\n",
       "      <td>1.000000</td>\n",
       "      <td>1.000000</td>\n",
       "      <td>1.000000</td>\n",
       "      <td>0.00000</td>\n",
       "      <td>43.000000</td>\n",
       "      <td>3.783000</td>\n",
       "    </tr>\n",
       "    <tr>\n",
       "      <th>max</th>\n",
       "      <td>34153.000000</td>\n",
       "      <td>1.000000</td>\n",
       "      <td>1.000000</td>\n",
       "      <td>1.000000</td>\n",
       "      <td>1.00000</td>\n",
       "      <td>88.000000</td>\n",
       "      <td>173.604000</td>\n",
       "    </tr>\n",
       "  </tbody>\n",
       "</table>\n",
       "</div>"
      ],
      "text/plain": [
       "            CASENUM     ATTORNEY       CLMSEX     CLMINSUR    SEATBELT  \\\n",
       "count   1339.000000  1339.000000  1339.000000  1339.000000  1339.00000   \n",
       "mean   11205.449589     0.489171     0.563107     0.910381     0.01643   \n",
       "std     9515.467232     0.500069     0.496187     0.285742     0.12717   \n",
       "min        0.000000     0.000000     0.000000     0.000000     0.00000   \n",
       "25%     4175.000000     0.000000     0.000000     1.000000     0.00000   \n",
       "50%     8765.000000     0.000000     1.000000     1.000000     0.00000   \n",
       "75%    15712.000000     1.000000     1.000000     1.000000     0.00000   \n",
       "max    34153.000000     1.000000     1.000000     1.000000     1.00000   \n",
       "\n",
       "            CLMAGE         LOSS  \n",
       "count  1150.000000  1339.000000  \n",
       "mean     28.356522     3.809090  \n",
       "std      20.217999    10.640389  \n",
       "min       0.000000     0.000000  \n",
       "25%       9.000000     0.400500  \n",
       "50%      30.000000     1.070000  \n",
       "75%      43.000000     3.783000  \n",
       "max      88.000000   173.604000  "
      ]
     },
     "execution_count": 48,
     "metadata": {},
     "output_type": "execute_result"
    }
   ],
   "source": [
    "data.describe()"
   ]
  },
  {
   "cell_type": "code",
   "execution_count": 49,
   "id": "bc2d68f8",
   "metadata": {},
   "outputs": [
    {
     "name": "stderr",
     "output_type": "stream",
     "text": [
      "C:\\Users\\jaich\\anaconda3\\lib\\site-packages\\seaborn\\_decorators.py:36: FutureWarning: Pass the following variable as a keyword arg: x. From version 0.12, the only valid positional argument will be `data`, and passing other arguments without an explicit keyword will result in an error or misinterpretation.\n",
      "  warnings.warn(\n"
     ]
    },
    {
     "data": {
      "text/plain": [
       "<AxesSubplot:xlabel='CLMAGE'>"
      ]
     },
     "execution_count": 49,
     "metadata": {},
     "output_type": "execute_result"
    },
    {
     "data": {
      "image/png": "[encoded data removed]",
      "text/plain": [
       "<Figure size 432x288 with 1 Axes>"
      ]
     },
     "metadata": {
      "needs_background": "light"
     },
     "output_type": "display_data"
    }
   ],
   "source": [
    "sns.boxplot(data['CLMAGE'])"
   ]
  },
  {
   "cell_type": "markdown",
   "id": "b33db314",
   "metadata": {},
   "source": [
    "We removed the outlier however it did not changed much. So we will continue using our old dataframe for Mean and Median Imputer"
   ]
  },
  {
   "cell_type": "code",
   "execution_count": 50,
   "id": "db528f48",
   "metadata": {},
   "outputs": [
    {
     "name": "stdout",
     "output_type": "stream",
     "text": [
      "CASENUM     0\n",
      "ATTORNEY    0\n",
      "CLMSEX      0\n",
      "CLMINSUR    0\n",
      "SEATBELT    0\n",
      "CLMAGE      0\n",
      "LOSS        0\n",
      "dtype: int64\n",
      "            CASENUM     ATTORNEY       CLMSEX     CLMINSUR     SEATBELT  \\\n",
      "count   1340.000000  1340.000000  1340.000000  1340.000000  1340.000000   \n",
      "mean   11202.001493     0.488806     0.562687     0.910448     0.016418   \n",
      "std     9512.750796     0.500061     0.496240     0.285646     0.127124   \n",
      "min        0.000000     0.000000     0.000000     0.000000     0.000000   \n",
      "25%     4177.000000     0.000000     0.000000     1.000000     0.000000   \n",
      "50%     8756.500000     0.000000     1.000000     1.000000     0.000000   \n",
      "75%    15702.500000     1.000000     1.000000     1.000000     0.000000   \n",
      "max    34153.000000     1.000000     1.000000     1.000000     1.000000   \n",
      "\n",
      "            CLMAGE         LOSS  \n",
      "count  1340.000000  1340.000000  \n",
      "mean     28.414422     3.806307  \n",
      "std      18.816978    10.636903  \n",
      "min       0.000000     0.000000  \n",
      "25%      10.000000     0.400000  \n",
      "50%      28.414422     1.069500  \n",
      "75%      40.000000     3.781500  \n",
      "max      95.000000   173.604000  \n"
     ]
    }
   ],
   "source": [
    "data1 = df.copy() # Copying our dataframe to new dataframe\n",
    "\n",
    "mean_imputer = SimpleImputer(missing_values=np.nan, strategy='mean') # using strategy as Mean for mean imputation\n",
    "data1['CLMAGE'] = mean_imputer.fit_transform(data1[['CLMAGE']]) # Applying the imputer on our column\n",
    "print(data1.isnull().sum()) # checking for any null value\n",
    "print(data1.describe()) # checking the describe option"
   ]
  },
  {
   "cell_type": "code",
   "execution_count": 52,
   "id": "22e7a201",
   "metadata": {},
   "outputs": [
    {
     "name": "stdout",
     "output_type": "stream",
     "text": [
      "CASENUM     0\n",
      "ATTORNEY    0\n",
      "CLMSEX      0\n",
      "CLMINSUR    0\n",
      "SEATBELT    0\n",
      "CLMAGE      0\n",
      "LOSS        0\n",
      "dtype: int64\n",
      "            CASENUM     ATTORNEY       CLMSEX     CLMINSUR     SEATBELT  \\\n",
      "count   1340.000000  1340.000000  1340.000000  1340.000000  1340.000000   \n",
      "mean   11202.001493     0.488806     0.562687     0.910448     0.016418   \n",
      "std     9512.750796     0.500061     0.496240     0.285646     0.127124   \n",
      "min        0.000000     0.000000     0.000000     0.000000     0.000000   \n",
      "25%     4177.000000     0.000000     0.000000     1.000000     0.000000   \n",
      "50%     8756.500000     0.000000     1.000000     1.000000     0.000000   \n",
      "75%    15702.500000     1.000000     1.000000     1.000000     0.000000   \n",
      "max    34153.000000     1.000000     1.000000     1.000000     1.000000   \n",
      "\n",
      "            CLMAGE         LOSS  \n",
      "count  1340.000000  1340.000000  \n",
      "mean     28.638060     3.806307  \n",
      "std      18.825075    10.636903  \n",
      "min       0.000000     0.000000  \n",
      "25%      10.000000     0.400000  \n",
      "50%      30.000000     1.069500  \n",
      "75%      40.000000     3.781500  \n",
      "max      95.000000   173.604000  \n"
     ]
    }
   ],
   "source": [
    "data2 = df.copy()\n",
    "\n",
    "median_imputer = SimpleImputer(missing_values=np.nan, strategy='median')\n",
    "data2['CLMAGE'] = median_imputer.fit_transform(data2[['CLMAGE']])\n",
    "print(data2.isnull().sum())\n",
    "print(data2.describe())"
   ]
  },
  {
   "cell_type": "markdown",
   "id": "72a778a7",
   "metadata": {},
   "source": [
    "As we can see when we did Mean Impute the Median value and Mean value became same, whereas with Median Impute mean and Median remained same"
   ]
  }
 ],
 "metadata": {
  "kernelspec": {
   "display_name": "Python 3",
   "language": "python",
   "name": "python3"
  },
  "language_info": {
   "codemirror_mode": {
    "name": "ipython",
    "version": 3
   },
   "file_extension": ".py",
   "mimetype": "text/x-python",
   "name": "python",
   "nbconvert_exporter": "python",
   "pygments_lexer": "ipython3",
   "version": "3.8.10"
  }
 },
 "nbformat": 4,
 "nbformat_minor": 5
}
