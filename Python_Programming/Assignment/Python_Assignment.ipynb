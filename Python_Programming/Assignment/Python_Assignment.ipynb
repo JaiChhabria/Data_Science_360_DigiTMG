{
 "cells": [
  {
   "cell_type": "markdown",
   "metadata": {},
   "source": [
    "# Assignment - 1 - Data Types"
   ]
  },
  {
   "cell_type": "markdown",
   "metadata": {},
   "source": [
    "1.\tConstruct 2 lists containing all the available data types  (integer, float, string, complex and Boolean) and do the following..<br>\n",
    "a.\tCreate another list by concatenating above 2 lists<br>\n",
    "b.\tFind the frequency of each element in the concatenated list.<br>\n",
    "c.\tPrint the list in reverse order.<br>\n"
   ]
  },
  {
   "cell_type": "markdown",
   "metadata": {},
   "source": [
    "Construct 2 lists containing all the available data types (integer, float, string, complex and Boolean) and do the following.."
   ]
  },
  {
   "cell_type": "code",
   "execution_count": 1,
   "metadata": {},
   "outputs": [
    {
     "name": "stdout",
     "output_type": "stream",
     "text": [
      "[5, 2.0, 'Hello_World', (5+55j), True] [10, 3.0, 'My_Name_Is', (1+2j), False]\n"
     ]
    }
   ],
   "source": [
    "list1 = [5, 2.0, 'Hello_World',5+55j,True]\n",
    "list2 = [10,3.0,'My_Name_Is', 1+2j, False]\n",
    "print(list1,list2)\n"
   ]
  },
  {
   "cell_type": "markdown",
   "metadata": {},
   "source": [
    "a. Create another list by concatenating above 2 lists"
   ]
  },
  {
   "cell_type": "code",
   "execution_count": 2,
   "metadata": {},
   "outputs": [
    {
     "data": {
      "text/plain": [
       "[5, 2.0, 'Hello_World', (5+55j), True, 10, 3.0, 'My_Name_Is', (1+2j), False]"
      ]
     },
     "execution_count": 2,
     "metadata": {},
     "output_type": "execute_result"
    }
   ],
   "source": [
    "list3 = list1 + list2\n",
    "list3"
   ]
  },
  {
   "cell_type": "markdown",
   "metadata": {},
   "source": [
    "c. Print the list in reverse order."
   ]
  },
  {
   "cell_type": "code",
   "execution_count": 3,
   "metadata": {},
   "outputs": [
    {
     "data": {
      "text/plain": [
       "[False, (1+2j), 'My_Name_Is', 3.0, 10, True, (5+55j), 'Hello_World', 2.0, 5]"
      ]
     },
     "execution_count": 3,
     "metadata": {},
     "output_type": "execute_result"
    }
   ],
   "source": [
    "list3.reverse()\n",
    "list3"
   ]
  },
  {
   "cell_type": "code",
   "execution_count": null,
   "metadata": {},
   "outputs": [],
   "source": []
  },
  {
   "cell_type": "markdown",
   "metadata": {},
   "source": [
    "2.\tCreate 2 Sets containing integers (numbers from 1 to 10 in one set and 5 to 15 in other set)<br>\n",
    "a.\tFind the common elements in above 2 Sets.<br>\n",
    "b.\tFind the elements that are not common.<br>\n",
    "c.\tRemove element 7 from both the Sets.<br>\n"
   ]
  },
  {
   "cell_type": "code",
   "execution_count": 4,
   "metadata": {},
   "outputs": [],
   "source": [
    "import statistics"
   ]
  },
  {
   "cell_type": "code",
   "execution_count": 5,
   "metadata": {},
   "outputs": [
    {
     "name": "stdout",
     "output_type": "stream",
     "text": [
      "{1, 2, 3, 4, 5, 6, 7, 8, 9, 10} {5, 6, 7, 8, 9, 10, 11, 12, 13, 14, 15}\n"
     ]
    }
   ],
   "source": [
    "set1 = set([1,2,3,4,5,6,7,8,9,10])\n",
    "set2 = set([5,6,7,8,9,10,11,12,13,14,15])\n",
    "print(set1,set2)"
   ]
  },
  {
   "cell_type": "markdown",
   "metadata": {},
   "source": [
    "Find the common elements in above 2 Sets"
   ]
  },
  {
   "cell_type": "code",
   "execution_count": 6,
   "metadata": {},
   "outputs": [
    {
     "data": {
      "text/plain": [
       "{5, 6, 7, 8, 9, 10}"
      ]
     },
     "execution_count": 6,
     "metadata": {},
     "output_type": "execute_result"
    }
   ],
   "source": [
    "intersection = set1.intersection(set2)\n",
    "intersection"
   ]
  },
  {
   "cell_type": "markdown",
   "metadata": {},
   "source": [
    "Find the elements that are not common."
   ]
  },
  {
   "cell_type": "code",
   "execution_count": 7,
   "metadata": {},
   "outputs": [
    {
     "data": {
      "text/plain": [
       "{1, 2, 3, 4}"
      ]
     },
     "execution_count": 7,
     "metadata": {},
     "output_type": "execute_result"
    }
   ],
   "source": [
    "difference = set1.difference(set2)\n",
    "difference"
   ]
  },
  {
   "cell_type": "markdown",
   "metadata": {},
   "source": [
    "Remove element 7 from both the Sets"
   ]
  },
  {
   "cell_type": "code",
   "execution_count": 8,
   "metadata": {},
   "outputs": [
    {
     "name": "stdout",
     "output_type": "stream",
     "text": [
      "{1, 2, 3, 4, 5, 6, 8, 9, 10} {5, 6, 8, 9, 10, 11, 12, 13, 14, 15}\n"
     ]
    }
   ],
   "source": [
    "set1.remove(7)\n",
    "set2.remove(7)\n",
    "print(set1,set2)"
   ]
  },
  {
   "cell_type": "code",
   "execution_count": null,
   "metadata": {},
   "outputs": [],
   "source": []
  },
  {
   "cell_type": "markdown",
   "metadata": {},
   "source": [
    "3.\tCreate a data dictionary of 5 states having state name as key and number of covid-19 cases as values.<br>\n",
    "a.\tPrint only state names from the dictionary.<br>\n",
    "b.\tUpdate another country and it’s covid-19 cases in the dictionary.<br>\n"
   ]
  },
  {
   "cell_type": "code",
   "execution_count": 9,
   "metadata": {},
   "outputs": [
    {
     "data": {
      "text/plain": [
       "{'Mah': 151564, 'Guj': 21542, 'Kar': 25258, 'Del': 258963, 'Assam': 124578}"
      ]
     },
     "execution_count": 9,
     "metadata": {},
     "output_type": "execute_result"
    }
   ],
   "source": [
    "states = {'Mah':151564,'Guj':21542,'Kar':25258,'Del':258963,'Assam':124578}\n",
    "states"
   ]
  },
  {
   "cell_type": "code",
   "execution_count": 10,
   "metadata": {},
   "outputs": [
    {
     "data": {
      "text/plain": [
       "dict_keys(['Mah', 'Guj', 'Kar', 'Del', 'Assam'])"
      ]
     },
     "execution_count": 10,
     "metadata": {},
     "output_type": "execute_result"
    }
   ],
   "source": [
    "states.keys()"
   ]
  },
  {
   "cell_type": "code",
   "execution_count": 11,
   "metadata": {},
   "outputs": [
    {
     "data": {
      "text/plain": [
       "{'Mah': 151564,\n",
       " 'Guj': 21542,\n",
       " 'Kar': 25258,\n",
       " 'Del': 258963,\n",
       " 'Assam': 124578,\n",
       " 'France': 2525889}"
      ]
     },
     "execution_count": 11,
     "metadata": {},
     "output_type": "execute_result"
    }
   ],
   "source": [
    "states['France'] = 2525889\n",
    "states"
   ]
  },
  {
   "cell_type": "code",
   "execution_count": null,
   "metadata": {},
   "outputs": [],
   "source": []
  },
  {
   "cell_type": "markdown",
   "metadata": {},
   "source": [
    "# MODULE-2 OPERATORES"
   ]
  },
  {
   "cell_type": "markdown",
   "metadata": {},
   "source": [
    "1.\tA. Write an equation which relates   399, 543 and 12345 <br>\n",
    "B.  “When I divide 5 with 3, I got 1. But when I divide -5 with 3, I got -2”—How would you justify it.\n"
   ]
  },
  {
   "cell_type": "markdown",
   "metadata": {},
   "source": [
    "Answer for A is 399,543 and 12345 are divisible by 3"
   ]
  },
  {
   "cell_type": "markdown",
   "metadata": {},
   "source": [
    "Answer for B is mentioned below"
   ]
  },
  {
   "cell_type": "markdown",
   "metadata": {},
   "source": [
    "The five in positive can be divided and answer will be three but when its -5 it is less tahn three which makes answer -2"
   ]
  },
  {
   "cell_type": "code",
   "execution_count": null,
   "metadata": {},
   "outputs": [],
   "source": []
  },
  {
   "cell_type": "markdown",
   "metadata": {},
   "source": [
    "# MODULE 3 - Variables"
   ]
  },
  {
   "cell_type": "code",
   "execution_count": 12,
   "metadata": {},
   "outputs": [
    {
     "data": {
      "text/plain": [
       "5"
      ]
     },
     "execution_count": 12,
     "metadata": {},
     "output_type": "execute_result"
    }
   ],
   "source": [
    "Age1=5\n",
    "Age1"
   ]
  },
  {
   "cell_type": "code",
   "execution_count": 13,
   "metadata": {},
   "outputs": [],
   "source": [
    "#5age=55\n",
    "#5age"
   ]
  },
  {
   "cell_type": "code",
   "execution_count": 14,
   "metadata": {},
   "outputs": [
    {
     "data": {
      "text/plain": [
       "100"
      ]
     },
     "execution_count": 14,
     "metadata": {},
     "output_type": "execute_result"
    }
   ],
   "source": [
    "Age_1 = 100\n",
    "Age_1"
   ]
  },
  {
   "cell_type": "code",
   "execution_count": 15,
   "metadata": {},
   "outputs": [],
   "source": [
    "#age@1 = 100\n",
    "#age@1"
   ]
  },
  {
   "cell_type": "code",
   "execution_count": 16,
   "metadata": {},
   "outputs": [],
   "source": [
    "del(Age_1)\n",
    "#Age_1"
   ]
  },
  {
   "cell_type": "code",
   "execution_count": null,
   "metadata": {},
   "outputs": [],
   "source": []
  },
  {
   "cell_type": "markdown",
   "metadata": {},
   "source": [
    "# MODULE - 4 Conditional Statements"
   ]
  },
  {
   "cell_type": "markdown",
   "metadata": {},
   "source": [
    "Take a variable ‘age’ which is of positive value and check the following:<br>\n",
    "a.\tIf age is less than 10, print “Children”.<br>\n",
    "b.\tIf age is more than 60 , print ‘senior citizens’<br>\n",
    "c.\t If it is in between 10 and 60, print ‘normal citizen’<br>\n"
   ]
  },
  {
   "cell_type": "code",
   "execution_count": 17,
   "metadata": {
    "scrolled": true
   },
   "outputs": [
    {
     "name": "stdout",
     "output_type": "stream",
     "text": [
      "Senior Citizen\n"
     ]
    }
   ],
   "source": [
    "number = 61\n",
    "\n",
    "if number < 10 or number == 10:\n",
    "    print(\"Children\")\n",
    "elif number > 60:\n",
    "    print(\"Senior Citizen\")\n",
    "else:\n",
    "    print('Normal Citizen')\n"
   ]
  },
  {
   "cell_type": "markdown",
   "metadata": {},
   "source": [
    "2.\tFind  the final train ticket price with the following conditions. <br>\n",
    "a.\tIf male and sr.citizen, 70% of fare is applicable <br>\n",
    "b.\tIf female and sr.citizen, 50% of fare is applicable. <br>\n",
    "c.\tIf female and normal citizen, 70% of fare is applicable <br>\n",
    "d.\tIf male and normal citizen, 100% of fare is applicable <br>\n",
    "[Hint: First check for the gender, then calculate the fare based on age factor.. For both Male and Female ,consider them as sr.citizens if their age >=60]\n"
   ]
  },
  {
   "cell_type": "code",
   "execution_count": 18,
   "metadata": {},
   "outputs": [
    {
     "name": "stdout",
     "output_type": "stream",
     "text": [
      "Female customer who is Sr. Citizen your train ticket fare is 50%\n"
     ]
    }
   ],
   "source": [
    "gender = 'female'\n",
    "age = 61\n",
    "\n",
    "if gender == 'male' and age > 59.51:\n",
    "    print(\"Male customer who is Sr Citizen your train ticket fare is 70%\")\n",
    "elif gender == 'female' and age > 59.51:\n",
    "    print(\"Female customer who is Sr. Citizen your train ticket fare is 50%\")\n",
    "elif gender == 'male' and age < 60:\n",
    "    print(\"Male Customer who is Normal Citizen you train ticket fare is 100%\")\n",
    "elif gender == 'female' and age < 60:\n",
    "    print(\"Female Customer who is Normal citizen your train ticket fare is 70%\")\n",
    "else:\n",
    "    print(\"Please input proper gender and age, Gender is not Case sensitive\")"
   ]
  },
  {
   "cell_type": "markdown",
   "metadata": {},
   "source": [
    "3.\tCheck whether the given number is positive and divisible by 5 or not.  "
   ]
  },
  {
   "cell_type": "code",
   "execution_count": 19,
   "metadata": {},
   "outputs": [
    {
     "name": "stdout",
     "output_type": "stream",
     "text": [
      "Positive Number\n",
      "Number is Divisable by 5\n"
     ]
    }
   ],
   "source": [
    "number = 150\n",
    "\n",
    "\n",
    "\n",
    "if number > 0:\n",
    "    print(\"Positive Number\")\n",
    "else:\n",
    "    print(\"Please key in a Positive Number\")\n",
    "\n",
    "if number % 5 == 0:\n",
    "    print(\"Number is Divisable by 5\")\n",
    "else:\n",
    "    print(\"Number is not Divisable by 5\")"
   ]
  },
  {
   "cell_type": "code",
   "execution_count": null,
   "metadata": {},
   "outputs": [],
   "source": []
  },
  {
   "cell_type": "markdown",
   "metadata": {},
   "source": [
    "# MODULE 5 - LOOPS and FUNCTIONS"
   ]
  },
  {
   "cell_type": "markdown",
   "metadata": {},
   "source": [
    "1.\tA) list1=[1,5.5,(10+20j),’data science’].. Print default functions and parameters exists in list1. <br>\n",
    "B) How do we create a sequence of numbers in Python. <br>\n",
    "C)  Read the input from keyboard and print a sequence of numbers up to that number\n"
   ]
  },
  {
   "cell_type": "code",
   "execution_count": 20,
   "metadata": {},
   "outputs": [
    {
     "data": {
      "text/plain": [
       "['__add__',\n",
       " '__class__',\n",
       " '__contains__',\n",
       " '__delattr__',\n",
       " '__delitem__',\n",
       " '__dir__',\n",
       " '__doc__',\n",
       " '__eq__',\n",
       " '__format__',\n",
       " '__ge__',\n",
       " '__getattribute__',\n",
       " '__getitem__',\n",
       " '__gt__',\n",
       " '__hash__',\n",
       " '__iadd__',\n",
       " '__imul__',\n",
       " '__init__',\n",
       " '__init_subclass__',\n",
       " '__iter__',\n",
       " '__le__',\n",
       " '__len__',\n",
       " '__lt__',\n",
       " '__mul__',\n",
       " '__ne__',\n",
       " '__new__',\n",
       " '__reduce__',\n",
       " '__reduce_ex__',\n",
       " '__repr__',\n",
       " '__reversed__',\n",
       " '__rmul__',\n",
       " '__setattr__',\n",
       " '__setitem__',\n",
       " '__sizeof__',\n",
       " '__str__',\n",
       " '__subclasshook__',\n",
       " 'append',\n",
       " 'clear',\n",
       " 'copy',\n",
       " 'count',\n",
       " 'extend',\n",
       " 'index',\n",
       " 'insert',\n",
       " 'pop',\n",
       " 'remove',\n",
       " 'reverse',\n",
       " 'sort']"
      ]
     },
     "execution_count": 20,
     "metadata": {},
     "output_type": "execute_result"
    }
   ],
   "source": [
    "list1 = [1,5.5,(10+20j),'data science']\n",
    "dir(list1)"
   ]
  },
  {
   "cell_type": "code",
   "execution_count": 26,
   "metadata": {},
   "outputs": [
    {
     "name": "stdout",
     "output_type": "stream",
     "text": [
      "0\n",
      "1\n",
      "2\n",
      "3\n",
      "4\n",
      "5\n",
      "6\n",
      "7\n",
      "8\n",
      "9\n",
      "10\n",
      "11\n",
      "12\n",
      "13\n",
      "14\n"
     ]
    }
   ],
   "source": [
    "#B \n",
    "for x in range(0,15):\n",
    "    print(x)\n"
   ]
  },
  {
   "cell_type": "code",
   "execution_count": 29,
   "metadata": {},
   "outputs": [
    {
     "name": "stdout",
     "output_type": "stream",
     "text": [
      "enter the number : 10\n",
      "0\n",
      "1\n",
      "2\n",
      "3\n",
      "4\n",
      "5\n",
      "6\n",
      "7\n",
      "8\n",
      "9\n",
      "10\n"
     ]
    }
   ],
   "source": [
    "# C\n",
    "\n",
    "num = int(input('enter the number : '))\n",
    "for num in range(0, num+1):\n",
    "    print(num)\n"
   ]
  },
  {
   "cell_type": "markdown",
   "metadata": {},
   "source": [
    "2.\tCreate 2 lists.. one list contains 10 numbers (list1=[0,1,2,3....9]) and other \n",
    "list contains words of those 10 numbers (list2=['zero','one','two',.... ,'nine']).\n",
    " Create a dictionary such that list2 are keys and list 1 are values..\n"
   ]
  },
  {
   "cell_type": "code",
   "execution_count": 37,
   "metadata": {},
   "outputs": [
    {
     "name": "stdout",
     "output_type": "stream",
     "text": [
      "[0, 1, 2, 3, 4, 5, 6, 7, 8, 9] ['zero', 'one', 'two', 'three', 'four', 'five', 'six', 'seven', 'eight', 'nine']\n"
     ]
    }
   ],
   "source": [
    "list1 = [x for x in range(0,10)]\n",
    "list2 = (['zero','one','two','three','four','five','six','seven','eight','nine'])\n",
    "print(list1,list2)"
   ]
  },
  {
   "cell_type": "code",
   "execution_count": 38,
   "metadata": {},
   "outputs": [
    {
     "name": "stdout",
     "output_type": "stream",
     "text": [
      "{'zero': 0, 'one': 1, 'two': 2, 'three': 3, 'four': 4, 'five': 5, 'six': 6, 'seven': 7, 'eight': 8, 'nine': 9}\n"
     ]
    }
   ],
   "source": [
    "my_dict = {list2[i]:list1[i] for i in range(len(list2))}\n",
    "print(my_dict)"
   ]
  },
  {
   "cell_type": "markdown",
   "metadata": {},
   "source": [
    "3. Consider a list1 [3,4,5,6,7,8]. Create a new list2 such that Add 10 to the even number and multiply with 5 if it is odd number in the list1.."
   ]
  },
  {
   "cell_type": "code",
   "execution_count": 39,
   "metadata": {},
   "outputs": [
    {
     "name": "stdout",
     "output_type": "stream",
     "text": [
      "[15, 14, 25, 16, 35, 18]\n"
     ]
    }
   ],
   "source": [
    "list5 = [3,4,5,6,7,8]\n",
    "list6 = []\n",
    "for i in range(len(list5)):\n",
    "    if list5[i] %2 == 0:\n",
    "        a = list5[i]+10\n",
    "        list6.append(a)\n",
    "    else:\n",
    "        b = list5[i]*5\n",
    "        list6.append(b)\n",
    "print(list6)"
   ]
  },
  {
   "cell_type": "markdown",
   "metadata": {},
   "source": [
    "       4.     Write a simple user defined function that greets a person in such a way that :<br>\n",
    "             i) It should accept both name of person and message you want to deliver.<br>\n",
    "              ii) If no message is provided, it should greet a default message ‘How are you’ <br>\n",
    "           Ex: Hello ---xxxx---, How are you  - default message. <br>\n",
    "            Ex: Hello ---xxxx---, --xx your message xx---\n"
   ]
  },
  {
   "cell_type": "code",
   "execution_count": 43,
   "metadata": {},
   "outputs": [
    {
     "name": "stdout",
     "output_type": "stream",
     "text": [
      "Please enter your name : Jai\n",
      "Please type your message here : \n",
      "Hello, Jai How are you\n"
     ]
    }
   ],
   "source": [
    "def greeting():\n",
    "    name = input(\"Please enter your name : \")\n",
    "    message = input(\"Please type your message here : \")\n",
    "    if message == \"\":\n",
    "        print(\"Hello, \"+name+  \" How are you\")\n",
    "    else:\n",
    "        print(\"Hello, \" +name+ \" \" +message+ \"\")\n",
    "\n",
    "greeting()"
   ]
  },
  {
   "cell_type": "code",
   "execution_count": null,
   "metadata": {},
   "outputs": [],
   "source": []
  },
  {
   "cell_type": "markdown",
   "metadata": {},
   "source": [
    "# MODULE 5 - Packages"
   ]
  },
  {
   "cell_type": "code",
   "execution_count": 45,
   "metadata": {},
   "outputs": [],
   "source": [
    "import pandas as pd\n",
    "import numpy as np\n",
    "import matplotlib.pyplot as plt\n",
    "import seaborn as sns\n",
    "import missingno as msno\n",
    "plt.style.use('ggplot')\n",
    "plt.rcParams['figure.figsize'] = (10,15)"
   ]
  },
  {
   "cell_type": "markdown",
   "metadata": {},
   "source": [
    "1.\tFor the dataset “Indian_cities”, <br>\n",
    "a)\tFind out top 10 states in female-male sex ratio <br>\n",
    "b)\tFind out top 10 cities in total number of graduates <br>\n",
    "c)\tFind out top 10 cities and their locations in respect of  total effective_literacy_rate.\n"
   ]
  },
  {
   "cell_type": "code",
   "execution_count": 46,
   "metadata": {},
   "outputs": [
    {
     "data": {
      "text/html": [
       "<div>\n",
       "<style scoped>\n",
       "    .dataframe tbody tr th:only-of-type {\n",
       "        vertical-align: middle;\n",
       "    }\n",
       "\n",
       "    .dataframe tbody tr th {\n",
       "        vertical-align: top;\n",
       "    }\n",
       "\n",
       "    .dataframe thead th {\n",
       "        text-align: right;\n",
       "    }\n",
       "</style>\n",
       "<table border=\"1\" class=\"dataframe\">\n",
       "  <thead>\n",
       "    <tr style=\"text-align: right;\">\n",
       "      <th></th>\n",
       "      <th>name_of_city</th>\n",
       "      <th>state_code</th>\n",
       "      <th>state_name</th>\n",
       "      <th>dist_code</th>\n",
       "      <th>population_total</th>\n",
       "      <th>population_male</th>\n",
       "      <th>population_female</th>\n",
       "      <th>0-6_population_total</th>\n",
       "      <th>0-6_population_male</th>\n",
       "      <th>0-6_population_female</th>\n",
       "      <th>...</th>\n",
       "      <th>literates_female</th>\n",
       "      <th>sex_ratio</th>\n",
       "      <th>child_sex_ratio</th>\n",
       "      <th>effective_literacy_rate_total</th>\n",
       "      <th>effective_literacy_rate_male</th>\n",
       "      <th>effective_literacy_rate_female</th>\n",
       "      <th>location</th>\n",
       "      <th>total_graduates</th>\n",
       "      <th>male_graduates</th>\n",
       "      <th>female_graduates</th>\n",
       "    </tr>\n",
       "  </thead>\n",
       "  <tbody>\n",
       "    <tr>\n",
       "      <th>0</th>\n",
       "      <td>Abohar</td>\n",
       "      <td>3</td>\n",
       "      <td>PUNJAB</td>\n",
       "      <td>9</td>\n",
       "      <td>145238</td>\n",
       "      <td>76840</td>\n",
       "      <td>68398</td>\n",
       "      <td>15870</td>\n",
       "      <td>8587</td>\n",
       "      <td>7283</td>\n",
       "      <td>...</td>\n",
       "      <td>44972</td>\n",
       "      <td>890</td>\n",
       "      <td>848</td>\n",
       "      <td>79.86</td>\n",
       "      <td>85.49</td>\n",
       "      <td>73.59</td>\n",
       "      <td>30.1452928,74.1993043</td>\n",
       "      <td>16287</td>\n",
       "      <td>8612</td>\n",
       "      <td>7675</td>\n",
       "    </tr>\n",
       "    <tr>\n",
       "      <th>1</th>\n",
       "      <td>Achalpur</td>\n",
       "      <td>27</td>\n",
       "      <td>MAHARASHTRA</td>\n",
       "      <td>7</td>\n",
       "      <td>112293</td>\n",
       "      <td>58256</td>\n",
       "      <td>54037</td>\n",
       "      <td>11810</td>\n",
       "      <td>6186</td>\n",
       "      <td>5624</td>\n",
       "      <td>...</td>\n",
       "      <td>43086</td>\n",
       "      <td>928</td>\n",
       "      <td>909</td>\n",
       "      <td>91.99</td>\n",
       "      <td>94.77</td>\n",
       "      <td>89.00</td>\n",
       "      <td>21.257584,77.5086754</td>\n",
       "      <td>8863</td>\n",
       "      <td>5269</td>\n",
       "      <td>3594</td>\n",
       "    </tr>\n",
       "    <tr>\n",
       "      <th>2</th>\n",
       "      <td>Adilabad</td>\n",
       "      <td>28</td>\n",
       "      <td>ANDHRA PRADESH</td>\n",
       "      <td>1</td>\n",
       "      <td>117388</td>\n",
       "      <td>59232</td>\n",
       "      <td>58156</td>\n",
       "      <td>13103</td>\n",
       "      <td>6731</td>\n",
       "      <td>6372</td>\n",
       "      <td>...</td>\n",
       "      <td>37660</td>\n",
       "      <td>982</td>\n",
       "      <td>947</td>\n",
       "      <td>80.51</td>\n",
       "      <td>88.18</td>\n",
       "      <td>72.73</td>\n",
       "      <td>19.0809075,79.560344</td>\n",
       "      <td>10565</td>\n",
       "      <td>6797</td>\n",
       "      <td>3768</td>\n",
       "    </tr>\n",
       "    <tr>\n",
       "      <th>3</th>\n",
       "      <td>Adityapur</td>\n",
       "      <td>20</td>\n",
       "      <td>JHARKHAND</td>\n",
       "      <td>24</td>\n",
       "      <td>173988</td>\n",
       "      <td>91495</td>\n",
       "      <td>82493</td>\n",
       "      <td>23042</td>\n",
       "      <td>12063</td>\n",
       "      <td>10979</td>\n",
       "      <td>...</td>\n",
       "      <td>54515</td>\n",
       "      <td>902</td>\n",
       "      <td>910</td>\n",
       "      <td>83.46</td>\n",
       "      <td>89.98</td>\n",
       "      <td>76.23</td>\n",
       "      <td>22.7834741,86.1576889</td>\n",
       "      <td>19225</td>\n",
       "      <td>12189</td>\n",
       "      <td>7036</td>\n",
       "    </tr>\n",
       "    <tr>\n",
       "      <th>4</th>\n",
       "      <td>Adoni</td>\n",
       "      <td>28</td>\n",
       "      <td>ANDHRA PRADESH</td>\n",
       "      <td>21</td>\n",
       "      <td>166537</td>\n",
       "      <td>82743</td>\n",
       "      <td>83794</td>\n",
       "      <td>18406</td>\n",
       "      <td>9355</td>\n",
       "      <td>9051</td>\n",
       "      <td>...</td>\n",
       "      <td>45089</td>\n",
       "      <td>1013</td>\n",
       "      <td>968</td>\n",
       "      <td>68.38</td>\n",
       "      <td>76.58</td>\n",
       "      <td>60.33</td>\n",
       "      <td>15.6322227,77.2728368</td>\n",
       "      <td>11902</td>\n",
       "      <td>7871</td>\n",
       "      <td>4031</td>\n",
       "    </tr>\n",
       "  </tbody>\n",
       "</table>\n",
       "<p>5 rows × 22 columns</p>\n",
       "</div>"
      ],
      "text/plain": [
       "  name_of_city  state_code      state_name  dist_code  population_total  \\\n",
       "0      Abohar            3          PUNJAB          9            145238   \n",
       "1    Achalpur           27     MAHARASHTRA          7            112293   \n",
       "2    Adilabad           28  ANDHRA PRADESH          1            117388   \n",
       "3   Adityapur           20       JHARKHAND         24            173988   \n",
       "4       Adoni           28  ANDHRA PRADESH         21            166537   \n",
       "\n",
       "   population_male  population_female  0-6_population_total  \\\n",
       "0            76840              68398                 15870   \n",
       "1            58256              54037                 11810   \n",
       "2            59232              58156                 13103   \n",
       "3            91495              82493                 23042   \n",
       "4            82743              83794                 18406   \n",
       "\n",
       "   0-6_population_male  0-6_population_female  ...  literates_female  \\\n",
       "0                 8587                   7283  ...             44972   \n",
       "1                 6186                   5624  ...             43086   \n",
       "2                 6731                   6372  ...             37660   \n",
       "3                12063                  10979  ...             54515   \n",
       "4                 9355                   9051  ...             45089   \n",
       "\n",
       "   sex_ratio  child_sex_ratio  effective_literacy_rate_total  \\\n",
       "0        890              848                          79.86   \n",
       "1        928              909                          91.99   \n",
       "2        982              947                          80.51   \n",
       "3        902              910                          83.46   \n",
       "4       1013              968                          68.38   \n",
       "\n",
       "   effective_literacy_rate_male  effective_literacy_rate_female  \\\n",
       "0                         85.49                           73.59   \n",
       "1                         94.77                           89.00   \n",
       "2                         88.18                           72.73   \n",
       "3                         89.98                           76.23   \n",
       "4                         76.58                           60.33   \n",
       "\n",
       "                location  total_graduates male_graduates  female_graduates  \n",
       "0  30.1452928,74.1993043            16287           8612              7675  \n",
       "1   21.257584,77.5086754             8863           5269              3594  \n",
       "2   19.0809075,79.560344            10565           6797              3768  \n",
       "3  22.7834741,86.1576889            19225          12189              7036  \n",
       "4  15.6322227,77.2728368            11902           7871              4031  \n",
       "\n",
       "[5 rows x 22 columns]"
      ]
     },
     "execution_count": 46,
     "metadata": {},
     "output_type": "execute_result"
    }
   ],
   "source": [
    "data = pd.read_csv(\"Indian_cities.csv\")\n",
    "data.head()"
   ]
  },
  {
   "cell_type": "code",
   "execution_count": 47,
   "metadata": {},
   "outputs": [
    {
     "data": {
      "text/plain": [
       "Index(['name_of_city', 'state_code', 'state_name', 'dist_code',\n",
       "       'population_total', 'population_male', 'population_female',\n",
       "       '0-6_population_total', '0-6_population_male', '0-6_population_female',\n",
       "       'literates_total', 'literates_male', 'literates_female', 'sex_ratio',\n",
       "       'child_sex_ratio', 'effective_literacy_rate_total',\n",
       "       'effective_literacy_rate_male', 'effective_literacy_rate_female',\n",
       "       'location', 'total_graduates', 'male_graduates', 'female_graduates'],\n",
       "      dtype='object')"
      ]
     },
     "execution_count": 47,
     "metadata": {},
     "output_type": "execute_result"
    }
   ],
   "source": [
    "data.columns"
   ]
  },
  {
   "cell_type": "code",
   "execution_count": 66,
   "metadata": {},
   "outputs": [
    {
     "data": {
      "text/html": [
       "<div>\n",
       "<style scoped>\n",
       "    .dataframe tbody tr th:only-of-type {\n",
       "        vertical-align: middle;\n",
       "    }\n",
       "\n",
       "    .dataframe tbody tr th {\n",
       "        vertical-align: top;\n",
       "    }\n",
       "\n",
       "    .dataframe thead th {\n",
       "        text-align: right;\n",
       "    }\n",
       "</style>\n",
       "<table border=\"1\" class=\"dataframe\">\n",
       "  <thead>\n",
       "    <tr style=\"text-align: right;\">\n",
       "      <th></th>\n",
       "      <th>state_name</th>\n",
       "      <th>sex_ratio</th>\n",
       "    </tr>\n",
       "  </thead>\n",
       "  <tbody>\n",
       "    <tr>\n",
       "      <th>278</th>\n",
       "      <td>KERALA</td>\n",
       "      <td>1093</td>\n",
       "    </tr>\n",
       "    <tr>\n",
       "      <th>275</th>\n",
       "      <td>KERALA</td>\n",
       "      <td>1077</td>\n",
       "    </tr>\n",
       "    <tr>\n",
       "      <th>14</th>\n",
       "      <td>KERALA</td>\n",
       "      <td>1076</td>\n",
       "    </tr>\n",
       "    <tr>\n",
       "      <th>461</th>\n",
       "      <td>KERALA</td>\n",
       "      <td>1076</td>\n",
       "    </tr>\n",
       "    <tr>\n",
       "      <th>459</th>\n",
       "      <td>KERALA</td>\n",
       "      <td>1064</td>\n",
       "    </tr>\n",
       "    <tr>\n",
       "      <th>220</th>\n",
       "      <td>MANIPUR</td>\n",
       "      <td>1055</td>\n",
       "    </tr>\n",
       "    <tr>\n",
       "      <th>358</th>\n",
       "      <td>KERALA</td>\n",
       "      <td>1053</td>\n",
       "    </tr>\n",
       "    <tr>\n",
       "      <th>245</th>\n",
       "      <td>ANDHRA PRADESH</td>\n",
       "      <td>1046</td>\n",
       "    </tr>\n",
       "    <tr>\n",
       "      <th>378</th>\n",
       "      <td>PUDUCHERRY</td>\n",
       "      <td>1045</td>\n",
       "    </tr>\n",
       "    <tr>\n",
       "      <th>430</th>\n",
       "      <td>MEGHALAYA</td>\n",
       "      <td>1042</td>\n",
       "    </tr>\n",
       "  </tbody>\n",
       "</table>\n",
       "</div>"
      ],
      "text/plain": [
       "         state_name  sex_ratio\n",
       "278          KERALA       1093\n",
       "275          KERALA       1077\n",
       "14           KERALA       1076\n",
       "461          KERALA       1076\n",
       "459          KERALA       1064\n",
       "220        MANIPUR        1055\n",
       "358          KERALA       1053\n",
       "245  ANDHRA PRADESH       1046\n",
       "378      PUDUCHERRY       1045\n",
       "430       MEGHALAYA       1042"
      ]
     },
     "execution_count": 66,
     "metadata": {},
     "output_type": "execute_result"
    }
   ],
   "source": [
    "# a - Find out top 10 states in female-male sex ratio\n",
    "data.nlargest(10,'sex_ratio')[['state_name','sex_ratio']]\n",
    "\n"
   ]
  },
  {
   "cell_type": "code",
   "execution_count": 68,
   "metadata": {},
   "outputs": [
    {
     "data": {
      "text/html": [
       "<div>\n",
       "<style scoped>\n",
       "    .dataframe tbody tr th:only-of-type {\n",
       "        vertical-align: middle;\n",
       "    }\n",
       "\n",
       "    .dataframe tbody tr th {\n",
       "        vertical-align: top;\n",
       "    }\n",
       "\n",
       "    .dataframe thead th {\n",
       "        text-align: right;\n",
       "    }\n",
       "</style>\n",
       "<table border=\"1\" class=\"dataframe\">\n",
       "  <thead>\n",
       "    <tr style=\"text-align: right;\">\n",
       "      <th></th>\n",
       "      <th>name_of_city</th>\n",
       "      <th>total_graduates</th>\n",
       "    </tr>\n",
       "  </thead>\n",
       "  <tbody>\n",
       "    <tr>\n",
       "      <th>141</th>\n",
       "      <td>Delhi</td>\n",
       "      <td>2221137</td>\n",
       "    </tr>\n",
       "    <tr>\n",
       "      <th>185</th>\n",
       "      <td>Greater Mumbai</td>\n",
       "      <td>1802371</td>\n",
       "    </tr>\n",
       "    <tr>\n",
       "      <th>72</th>\n",
       "      <td>Bengaluru</td>\n",
       "      <td>1591163</td>\n",
       "    </tr>\n",
       "    <tr>\n",
       "      <th>184</th>\n",
       "      <td>Greater Hyderabad</td>\n",
       "      <td>1164149</td>\n",
       "    </tr>\n",
       "    <tr>\n",
       "      <th>119</th>\n",
       "      <td>Chennai</td>\n",
       "      <td>879695</td>\n",
       "    </tr>\n",
       "    <tr>\n",
       "      <th>274</th>\n",
       "      <td>Kolkata</td>\n",
       "      <td>818476</td>\n",
       "    </tr>\n",
       "    <tr>\n",
       "      <th>7</th>\n",
       "      <td>Ahmadabad</td>\n",
       "      <td>769858</td>\n",
       "    </tr>\n",
       "    <tr>\n",
       "      <th>380</th>\n",
       "      <td>Pune</td>\n",
       "      <td>656508</td>\n",
       "    </tr>\n",
       "    <tr>\n",
       "      <th>288</th>\n",
       "      <td>Lucknow</td>\n",
       "      <td>596990</td>\n",
       "    </tr>\n",
       "    <tr>\n",
       "      <th>225</th>\n",
       "      <td>Jaipur</td>\n",
       "      <td>533148</td>\n",
       "    </tr>\n",
       "  </tbody>\n",
       "</table>\n",
       "</div>"
      ],
      "text/plain": [
       "           name_of_city  total_graduates\n",
       "141              Delhi           2221137\n",
       "185     Greater Mumbai           1802371\n",
       "72            Bengaluru          1591163\n",
       "184  Greater Hyderabad           1164149\n",
       "119            Chennai            879695\n",
       "274            Kolkata            818476\n",
       "7            Ahmadabad            769858\n",
       "380               Pune            656508\n",
       "288            Lucknow            596990\n",
       "225             Jaipur            533148"
      ]
     },
     "execution_count": 68,
     "metadata": {},
     "output_type": "execute_result"
    }
   ],
   "source": [
    "# b) Find out top 10 cities in total number of graduates\n",
    "\n",
    "data.nlargest(10,'total_graduates')[['name_of_city','total_graduates']]"
   ]
  },
  {
   "cell_type": "code",
   "execution_count": 69,
   "metadata": {},
   "outputs": [
    {
     "data": {
      "text/html": [
       "<div>\n",
       "<style scoped>\n",
       "    .dataframe tbody tr th:only-of-type {\n",
       "        vertical-align: middle;\n",
       "    }\n",
       "\n",
       "    .dataframe tbody tr th {\n",
       "        vertical-align: top;\n",
       "    }\n",
       "\n",
       "    .dataframe thead th {\n",
       "        text-align: right;\n",
       "    }\n",
       "</style>\n",
       "<table border=\"1\" class=\"dataframe\">\n",
       "  <thead>\n",
       "    <tr style=\"text-align: right;\">\n",
       "      <th></th>\n",
       "      <th>name_of_city</th>\n",
       "      <th>location</th>\n",
       "      <th>effective_literacy_rate_total</th>\n",
       "    </tr>\n",
       "  </thead>\n",
       "  <tbody>\n",
       "    <tr>\n",
       "      <th>9</th>\n",
       "      <td>Aizawl</td>\n",
       "      <td>23.727107,92.7176389</td>\n",
       "      <td>98.80</td>\n",
       "    </tr>\n",
       "    <tr>\n",
       "      <th>271</th>\n",
       "      <td>Kochi</td>\n",
       "      <td>9.9312328,76.2673041</td>\n",
       "      <td>97.49</td>\n",
       "    </tr>\n",
       "    <tr>\n",
       "      <th>461</th>\n",
       "      <td>Thrissur</td>\n",
       "      <td>10.5276416,76.2144349</td>\n",
       "      <td>97.24</td>\n",
       "    </tr>\n",
       "    <tr>\n",
       "      <th>278</th>\n",
       "      <td>Kozhikode</td>\n",
       "      <td>11.2587531,75.78041</td>\n",
       "      <td>96.80</td>\n",
       "    </tr>\n",
       "    <tr>\n",
       "      <th>14</th>\n",
       "      <td>Alappuzha</td>\n",
       "      <td>9.4980667,76.3388484</td>\n",
       "      <td>96.56</td>\n",
       "    </tr>\n",
       "    <tr>\n",
       "      <th>264</th>\n",
       "      <td>Khardaha</td>\n",
       "      <td>22.7002943,88.3753455</td>\n",
       "      <td>95.50</td>\n",
       "    </tr>\n",
       "    <tr>\n",
       "      <th>333</th>\n",
       "      <td>Nagercoil</td>\n",
       "      <td>8.1832857,77.4118996</td>\n",
       "      <td>95.35</td>\n",
       "    </tr>\n",
       "    <tr>\n",
       "      <th>13</th>\n",
       "      <td>Alandur</td>\n",
       "      <td>12.9974873,80.2006371</td>\n",
       "      <td>95.15</td>\n",
       "    </tr>\n",
       "    <tr>\n",
       "      <th>352</th>\n",
       "      <td>North Barrackpur</td>\n",
       "      <td>22.7902358,88.367179</td>\n",
       "      <td>94.78</td>\n",
       "    </tr>\n",
       "    <tr>\n",
       "      <th>431</th>\n",
       "      <td>Shimla</td>\n",
       "      <td>31.1048145,77.1734033</td>\n",
       "      <td>94.67</td>\n",
       "    </tr>\n",
       "  </tbody>\n",
       "</table>\n",
       "</div>"
      ],
      "text/plain": [
       "          name_of_city               location  effective_literacy_rate_total\n",
       "9              Aizawl    23.727107,92.7176389                          98.80\n",
       "271             Kochi    9.9312328,76.2673041                          97.49\n",
       "461          Thrissur   10.5276416,76.2144349                          97.24\n",
       "278         Kozhikode     11.2587531,75.78041                          96.80\n",
       "14          Alappuzha    9.4980667,76.3388484                          96.56\n",
       "264          Khardaha   22.7002943,88.3753455                          95.50\n",
       "333         Nagercoil    8.1832857,77.4118996                          95.35\n",
       "13            Alandur   12.9974873,80.2006371                          95.15\n",
       "352  North Barrackpur    22.7902358,88.367179                          94.78\n",
       "431            Shimla   31.1048145,77.1734033                          94.67"
      ]
     },
     "execution_count": 69,
     "metadata": {},
     "output_type": "execute_result"
    }
   ],
   "source": [
    "# c) Find out top 10 cities and their locations in respect of total effective_literacy_rate.\n",
    "\n",
    "data.nlargest(10,'effective_literacy_rate_total')[['name_of_city','location','effective_literacy_rate_total']]"
   ]
  },
  {
   "cell_type": "code",
   "execution_count": null,
   "metadata": {},
   "outputs": [],
   "source": []
  },
  {
   "cell_type": "markdown",
   "metadata": {},
   "source": [
    "2.\tFor the data set “Indian_cities”<br>\n",
    "a)\tConstruct histogram on literates_total and comment about the inferences <br>\n",
    "b)\tConstruct scatter  plot between  male graduates and female graduates\n"
   ]
  },
  {
   "cell_type": "code",
   "execution_count": 70,
   "metadata": {},
   "outputs": [
    {
     "data": {
      "text/plain": [
       "<matplotlib.axes._subplots.AxesSubplot at 0x256686479d0>"
      ]
     },
     "execution_count": 70,
     "metadata": {},
     "output_type": "execute_result"
    },
    {
     "data": {
      "image/png": "[encoded data removed]",
      "text/plain": [
       "<Figure size 720x1080 with 1 Axes>"
      ]
     },
     "metadata": {},
     "output_type": "display_data"
    }
   ],
   "source": [
    "data['literates_total'].plot(kind='hist')"
   ]
  },
  {
   "cell_type": "markdown",
   "metadata": {},
   "source": [
    "From the above chart we can say our data is positively skewed\n",
    "There might be outliers in our dataset"
   ]
  },
  {
   "cell_type": "markdown",
   "metadata": {},
   "source": [
    "Construct scatter plot between male graduates and female graduates"
   ]
  },
  {
   "cell_type": "code",
   "execution_count": 74,
   "metadata": {},
   "outputs": [
    {
     "data": {
      "text/plain": [
       "<matplotlib.axes._subplots.AxesSubplot at 0x2566bd94df0>"
      ]
     },
     "execution_count": 74,
     "metadata": {},
     "output_type": "execute_result"
    },
    {
     "data": {
      "image/png": "[encoded data removed]",
      "text/plain": [
       "<Figure size 720x1080 with 1 Axes>"
      ]
     },
     "metadata": {},
     "output_type": "display_data"
    }
   ],
   "source": [
    "sns.scatterplot('male_graduates', 'female_graduates',data=data)"
   ]
  },
  {
   "cell_type": "markdown",
   "metadata": {},
   "source": [
    "There is a positive relationship between Female and male graduates\n",
    "States where you have high male graduate rate, female graduation rate is also high\n",
    "There are many states where graduation rate is low for male and female both"
   ]
  },
  {
   "cell_type": "markdown",
   "metadata": {},
   "source": [
    "a)\tConstruct Boxplot on total effective literacy rate and draw inferences<br>\n",
    "b)\tFind out the number of null values in each column of the dataset and delete them.\n"
   ]
  },
  {
   "cell_type": "code",
   "execution_count": 75,
   "metadata": {},
   "outputs": [
    {
     "data": {
      "text/plain": [
       "Index(['name_of_city', 'state_code', 'state_name', 'dist_code',\n",
       "       'population_total', 'population_male', 'population_female',\n",
       "       '0-6_population_total', '0-6_population_male', '0-6_population_female',\n",
       "       'literates_total', 'literates_male', 'literates_female', 'sex_ratio',\n",
       "       'child_sex_ratio', 'effective_literacy_rate_total',\n",
       "       'effective_literacy_rate_male', 'effective_literacy_rate_female',\n",
       "       'location', 'total_graduates', 'male_graduates', 'female_graduates'],\n",
       "      dtype='object')"
      ]
     },
     "execution_count": 75,
     "metadata": {},
     "output_type": "execute_result"
    }
   ],
   "source": [
    "data.columns"
   ]
  },
  {
   "cell_type": "code",
   "execution_count": 76,
   "metadata": {},
   "outputs": [
    {
     "data": {
      "text/plain": [
       "{'whiskers': [<matplotlib.lines.Line2D at 0x2566baa0fd0>,\n",
       "  <matplotlib.lines.Line2D at 0x2566baa0610>],\n",
       " 'caps': [<matplotlib.lines.Line2D at 0x2566bb7d940>,\n",
       "  <matplotlib.lines.Line2D at 0x2566bab3160>],\n",
       " 'boxes': [<matplotlib.lines.Line2D at 0x2566bab8b20>],\n",
       " 'medians': [<matplotlib.lines.Line2D at 0x2566bab3a90>],\n",
       " 'fliers': [<matplotlib.lines.Line2D at 0x2566bab30d0>],\n",
       " 'means': []}"
      ]
     },
     "execution_count": 76,
     "metadata": {},
     "output_type": "execute_result"
    },
    {
     "data": {
      "image/png": "[encoded data removed]",
      "text/plain": [
       "<Figure size 720x1080 with 1 Axes>"
      ]
     },
     "metadata": {},
     "output_type": "display_data"
    }
   ],
   "source": [
    "plt.boxplot(data['effective_literacy_rate_total'])"
   ]
  },
  {
   "cell_type": "markdown",
   "metadata": {},
   "source": [
    "Data is negatively skewed, there are definately outliers in our dataset. Median is around 87"
   ]
  },
  {
   "cell_type": "code",
   "execution_count": 79,
   "metadata": {},
   "outputs": [
    {
     "data": {
      "text/plain": [
       "name_of_city                      0\n",
       "state_code                        0\n",
       "state_name                        0\n",
       "dist_code                         0\n",
       "population_total                  0\n",
       "population_male                   0\n",
       "population_female                 0\n",
       "0-6_population_total              0\n",
       "0-6_population_male               0\n",
       "0-6_population_female             0\n",
       "literates_total                   0\n",
       "literates_male                    0\n",
       "literates_female                  0\n",
       "sex_ratio                         0\n",
       "child_sex_ratio                   0\n",
       "effective_literacy_rate_total     0\n",
       "effective_literacy_rate_male      0\n",
       "effective_literacy_rate_female    0\n",
       "location                          0\n",
       "total_graduates                   0\n",
       "male_graduates                    0\n",
       "female_graduates                  0\n",
       "dtype: int64"
      ]
     },
     "execution_count": 79,
     "metadata": {},
     "output_type": "execute_result"
    }
   ],
   "source": [
    "data.isna().sum()"
   ]
  },
  {
   "cell_type": "code",
   "execution_count": 80,
   "metadata": {},
   "outputs": [
    {
     "data": {
      "text/html": [
       "<div>\n",
       "<style scoped>\n",
       "    .dataframe tbody tr th:only-of-type {\n",
       "        vertical-align: middle;\n",
       "    }\n",
       "\n",
       "    .dataframe tbody tr th {\n",
       "        vertical-align: top;\n",
       "    }\n",
       "\n",
       "    .dataframe thead th {\n",
       "        text-align: right;\n",
       "    }\n",
       "</style>\n",
       "<table border=\"1\" class=\"dataframe\">\n",
       "  <thead>\n",
       "    <tr style=\"text-align: right;\">\n",
       "      <th></th>\n",
       "      <th>name_of_city</th>\n",
       "      <th>state_code</th>\n",
       "      <th>state_name</th>\n",
       "      <th>dist_code</th>\n",
       "      <th>population_total</th>\n",
       "      <th>population_male</th>\n",
       "      <th>population_female</th>\n",
       "      <th>0-6_population_total</th>\n",
       "      <th>0-6_population_male</th>\n",
       "      <th>0-6_population_female</th>\n",
       "      <th>...</th>\n",
       "      <th>literates_female</th>\n",
       "      <th>sex_ratio</th>\n",
       "      <th>child_sex_ratio</th>\n",
       "      <th>effective_literacy_rate_total</th>\n",
       "      <th>effective_literacy_rate_male</th>\n",
       "      <th>effective_literacy_rate_female</th>\n",
       "      <th>location</th>\n",
       "      <th>total_graduates</th>\n",
       "      <th>male_graduates</th>\n",
       "      <th>female_graduates</th>\n",
       "    </tr>\n",
       "  </thead>\n",
       "  <tbody>\n",
       "    <tr>\n",
       "      <th>0</th>\n",
       "      <td>Abohar</td>\n",
       "      <td>3</td>\n",
       "      <td>PUNJAB</td>\n",
       "      <td>9</td>\n",
       "      <td>145238</td>\n",
       "      <td>76840</td>\n",
       "      <td>68398</td>\n",
       "      <td>15870</td>\n",
       "      <td>8587</td>\n",
       "      <td>7283</td>\n",
       "      <td>...</td>\n",
       "      <td>44972</td>\n",
       "      <td>890</td>\n",
       "      <td>848</td>\n",
       "      <td>79.86</td>\n",
       "      <td>85.49</td>\n",
       "      <td>73.59</td>\n",
       "      <td>30.1452928,74.1993043</td>\n",
       "      <td>16287</td>\n",
       "      <td>8612</td>\n",
       "      <td>7675</td>\n",
       "    </tr>\n",
       "    <tr>\n",
       "      <th>1</th>\n",
       "      <td>Achalpur</td>\n",
       "      <td>27</td>\n",
       "      <td>MAHARASHTRA</td>\n",
       "      <td>7</td>\n",
       "      <td>112293</td>\n",
       "      <td>58256</td>\n",
       "      <td>54037</td>\n",
       "      <td>11810</td>\n",
       "      <td>6186</td>\n",
       "      <td>5624</td>\n",
       "      <td>...</td>\n",
       "      <td>43086</td>\n",
       "      <td>928</td>\n",
       "      <td>909</td>\n",
       "      <td>91.99</td>\n",
       "      <td>94.77</td>\n",
       "      <td>89.00</td>\n",
       "      <td>21.257584,77.5086754</td>\n",
       "      <td>8863</td>\n",
       "      <td>5269</td>\n",
       "      <td>3594</td>\n",
       "    </tr>\n",
       "    <tr>\n",
       "      <th>2</th>\n",
       "      <td>Adilabad</td>\n",
       "      <td>28</td>\n",
       "      <td>ANDHRA PRADESH</td>\n",
       "      <td>1</td>\n",
       "      <td>117388</td>\n",
       "      <td>59232</td>\n",
       "      <td>58156</td>\n",
       "      <td>13103</td>\n",
       "      <td>6731</td>\n",
       "      <td>6372</td>\n",
       "      <td>...</td>\n",
       "      <td>37660</td>\n",
       "      <td>982</td>\n",
       "      <td>947</td>\n",
       "      <td>80.51</td>\n",
       "      <td>88.18</td>\n",
       "      <td>72.73</td>\n",
       "      <td>19.0809075,79.560344</td>\n",
       "      <td>10565</td>\n",
       "      <td>6797</td>\n",
       "      <td>3768</td>\n",
       "    </tr>\n",
       "    <tr>\n",
       "      <th>3</th>\n",
       "      <td>Adityapur</td>\n",
       "      <td>20</td>\n",
       "      <td>JHARKHAND</td>\n",
       "      <td>24</td>\n",
       "      <td>173988</td>\n",
       "      <td>91495</td>\n",
       "      <td>82493</td>\n",
       "      <td>23042</td>\n",
       "      <td>12063</td>\n",
       "      <td>10979</td>\n",
       "      <td>...</td>\n",
       "      <td>54515</td>\n",
       "      <td>902</td>\n",
       "      <td>910</td>\n",
       "      <td>83.46</td>\n",
       "      <td>89.98</td>\n",
       "      <td>76.23</td>\n",
       "      <td>22.7834741,86.1576889</td>\n",
       "      <td>19225</td>\n",
       "      <td>12189</td>\n",
       "      <td>7036</td>\n",
       "    </tr>\n",
       "    <tr>\n",
       "      <th>4</th>\n",
       "      <td>Adoni</td>\n",
       "      <td>28</td>\n",
       "      <td>ANDHRA PRADESH</td>\n",
       "      <td>21</td>\n",
       "      <td>166537</td>\n",
       "      <td>82743</td>\n",
       "      <td>83794</td>\n",
       "      <td>18406</td>\n",
       "      <td>9355</td>\n",
       "      <td>9051</td>\n",
       "      <td>...</td>\n",
       "      <td>45089</td>\n",
       "      <td>1013</td>\n",
       "      <td>968</td>\n",
       "      <td>68.38</td>\n",
       "      <td>76.58</td>\n",
       "      <td>60.33</td>\n",
       "      <td>15.6322227,77.2728368</td>\n",
       "      <td>11902</td>\n",
       "      <td>7871</td>\n",
       "      <td>4031</td>\n",
       "    </tr>\n",
       "    <tr>\n",
       "      <th>...</th>\n",
       "      <td>...</td>\n",
       "      <td>...</td>\n",
       "      <td>...</td>\n",
       "      <td>...</td>\n",
       "      <td>...</td>\n",
       "      <td>...</td>\n",
       "      <td>...</td>\n",
       "      <td>...</td>\n",
       "      <td>...</td>\n",
       "      <td>...</td>\n",
       "      <td>...</td>\n",
       "      <td>...</td>\n",
       "      <td>...</td>\n",
       "      <td>...</td>\n",
       "      <td>...</td>\n",
       "      <td>...</td>\n",
       "      <td>...</td>\n",
       "      <td>...</td>\n",
       "      <td>...</td>\n",
       "      <td>...</td>\n",
       "      <td>...</td>\n",
       "    </tr>\n",
       "    <tr>\n",
       "      <th>488</th>\n",
       "      <td>Vizianagaram</td>\n",
       "      <td>28</td>\n",
       "      <td>ANDHRA PRADESH</td>\n",
       "      <td>12</td>\n",
       "      <td>227533</td>\n",
       "      <td>111596</td>\n",
       "      <td>115937</td>\n",
       "      <td>20487</td>\n",
       "      <td>10495</td>\n",
       "      <td>9992</td>\n",
       "      <td>...</td>\n",
       "      <td>80306</td>\n",
       "      <td>1039</td>\n",
       "      <td>952</td>\n",
       "      <td>81.85</td>\n",
       "      <td>88.18</td>\n",
       "      <td>75.80</td>\n",
       "      <td>18.1066576,83.3955506</td>\n",
       "      <td>30656</td>\n",
       "      <td>19173</td>\n",
       "      <td>11483</td>\n",
       "    </tr>\n",
       "    <tr>\n",
       "      <th>489</th>\n",
       "      <td>Warangal</td>\n",
       "      <td>28</td>\n",
       "      <td>ANDHRA PRADESH</td>\n",
       "      <td>9</td>\n",
       "      <td>620116</td>\n",
       "      <td>310400</td>\n",
       "      <td>309716</td>\n",
       "      <td>55392</td>\n",
       "      <td>28434</td>\n",
       "      <td>26958</td>\n",
       "      <td>...</td>\n",
       "      <td>217136</td>\n",
       "      <td>998</td>\n",
       "      <td>948</td>\n",
       "      <td>84.16</td>\n",
       "      <td>91.54</td>\n",
       "      <td>76.79</td>\n",
       "      <td>17.9689008,79.5940544</td>\n",
       "      <td>109613</td>\n",
       "      <td>69507</td>\n",
       "      <td>40106</td>\n",
       "    </tr>\n",
       "    <tr>\n",
       "      <th>490</th>\n",
       "      <td>Wardha</td>\n",
       "      <td>27</td>\n",
       "      <td>MAHARASHTRA</td>\n",
       "      <td>8</td>\n",
       "      <td>105543</td>\n",
       "      <td>53241</td>\n",
       "      <td>52302</td>\n",
       "      <td>9754</td>\n",
       "      <td>5139</td>\n",
       "      <td>4615</td>\n",
       "      <td>...</td>\n",
       "      <td>43339</td>\n",
       "      <td>982</td>\n",
       "      <td>898</td>\n",
       "      <td>94.05</td>\n",
       "      <td>97.19</td>\n",
       "      <td>90.88</td>\n",
       "      <td>20.745319,78.6021946</td>\n",
       "      <td>19363</td>\n",
       "      <td>10645</td>\n",
       "      <td>8718</td>\n",
       "    </tr>\n",
       "    <tr>\n",
       "      <th>491</th>\n",
       "      <td>Yamunanagar</td>\n",
       "      <td>6</td>\n",
       "      <td>HARYANA</td>\n",
       "      <td>3</td>\n",
       "      <td>216628</td>\n",
       "      <td>115404</td>\n",
       "      <td>101224</td>\n",
       "      <td>22905</td>\n",
       "      <td>12556</td>\n",
       "      <td>10349</td>\n",
       "      <td>...</td>\n",
       "      <td>74255</td>\n",
       "      <td>877</td>\n",
       "      <td>824</td>\n",
       "      <td>85.91</td>\n",
       "      <td>89.61</td>\n",
       "      <td>81.71</td>\n",
       "      <td>30.1290485,77.2673901</td>\n",
       "      <td>29803</td>\n",
       "      <td>14349</td>\n",
       "      <td>15454</td>\n",
       "    </tr>\n",
       "    <tr>\n",
       "      <th>492</th>\n",
       "      <td>Yavatmal</td>\n",
       "      <td>27</td>\n",
       "      <td>MAHARASHTRA</td>\n",
       "      <td>14</td>\n",
       "      <td>116714</td>\n",
       "      <td>58717</td>\n",
       "      <td>57997</td>\n",
       "      <td>11081</td>\n",
       "      <td>5894</td>\n",
       "      <td>5187</td>\n",
       "      <td>...</td>\n",
       "      <td>46561</td>\n",
       "      <td>988</td>\n",
       "      <td>880</td>\n",
       "      <td>91.81</td>\n",
       "      <td>95.45</td>\n",
       "      <td>88.17</td>\n",
       "      <td>20.3887937,78.1204073</td>\n",
       "      <td>13511</td>\n",
       "      <td>7397</td>\n",
       "      <td>6114</td>\n",
       "    </tr>\n",
       "  </tbody>\n",
       "</table>\n",
       "<p>493 rows × 22 columns</p>\n",
       "</div>"
      ],
      "text/plain": [
       "      name_of_city  state_code      state_name  dist_code  population_total  \\\n",
       "0          Abohar            3          PUNJAB          9            145238   \n",
       "1        Achalpur           27     MAHARASHTRA          7            112293   \n",
       "2        Adilabad           28  ANDHRA PRADESH          1            117388   \n",
       "3       Adityapur           20       JHARKHAND         24            173988   \n",
       "4           Adoni           28  ANDHRA PRADESH         21            166537   \n",
       "..             ...         ...             ...        ...               ...   \n",
       "488  Vizianagaram           28  ANDHRA PRADESH         12            227533   \n",
       "489      Warangal           28  ANDHRA PRADESH          9            620116   \n",
       "490        Wardha           27     MAHARASHTRA          8            105543   \n",
       "491   Yamunanagar            6         HARYANA          3            216628   \n",
       "492      Yavatmal           27     MAHARASHTRA         14            116714   \n",
       "\n",
       "     population_male  population_female  0-6_population_total  \\\n",
       "0              76840              68398                 15870   \n",
       "1              58256              54037                 11810   \n",
       "2              59232              58156                 13103   \n",
       "3              91495              82493                 23042   \n",
       "4              82743              83794                 18406   \n",
       "..               ...                ...                   ...   \n",
       "488           111596             115937                 20487   \n",
       "489           310400             309716                 55392   \n",
       "490            53241              52302                  9754   \n",
       "491           115404             101224                 22905   \n",
       "492            58717              57997                 11081   \n",
       "\n",
       "     0-6_population_male  0-6_population_female  ...  literates_female  \\\n",
       "0                   8587                   7283  ...             44972   \n",
       "1                   6186                   5624  ...             43086   \n",
       "2                   6731                   6372  ...             37660   \n",
       "3                  12063                  10979  ...             54515   \n",
       "4                   9355                   9051  ...             45089   \n",
       "..                   ...                    ...  ...               ...   \n",
       "488                10495                   9992  ...             80306   \n",
       "489                28434                  26958  ...            217136   \n",
       "490                 5139                   4615  ...             43339   \n",
       "491                12556                  10349  ...             74255   \n",
       "492                 5894                   5187  ...             46561   \n",
       "\n",
       "     sex_ratio  child_sex_ratio  effective_literacy_rate_total  \\\n",
       "0          890              848                          79.86   \n",
       "1          928              909                          91.99   \n",
       "2          982              947                          80.51   \n",
       "3          902              910                          83.46   \n",
       "4         1013              968                          68.38   \n",
       "..         ...              ...                            ...   \n",
       "488       1039              952                          81.85   \n",
       "489        998              948                          84.16   \n",
       "490        982              898                          94.05   \n",
       "491        877              824                          85.91   \n",
       "492        988              880                          91.81   \n",
       "\n",
       "     effective_literacy_rate_male  effective_literacy_rate_female  \\\n",
       "0                           85.49                           73.59   \n",
       "1                           94.77                           89.00   \n",
       "2                           88.18                           72.73   \n",
       "3                           89.98                           76.23   \n",
       "4                           76.58                           60.33   \n",
       "..                            ...                             ...   \n",
       "488                         88.18                           75.80   \n",
       "489                         91.54                           76.79   \n",
       "490                         97.19                           90.88   \n",
       "491                         89.61                           81.71   \n",
       "492                         95.45                           88.17   \n",
       "\n",
       "                  location  total_graduates male_graduates  female_graduates  \n",
       "0    30.1452928,74.1993043            16287           8612              7675  \n",
       "1     21.257584,77.5086754             8863           5269              3594  \n",
       "2     19.0809075,79.560344            10565           6797              3768  \n",
       "3    22.7834741,86.1576889            19225          12189              7036  \n",
       "4    15.6322227,77.2728368            11902           7871              4031  \n",
       "..                     ...              ...            ...               ...  \n",
       "488  18.1066576,83.3955506            30656          19173             11483  \n",
       "489  17.9689008,79.5940544           109613          69507             40106  \n",
       "490   20.745319,78.6021946            19363          10645              8718  \n",
       "491  30.1290485,77.2673901            29803          14349             15454  \n",
       "492  20.3887937,78.1204073            13511           7397              6114  \n",
       "\n",
       "[493 rows x 22 columns]"
      ]
     },
     "execution_count": 80,
     "metadata": {},
     "output_type": "execute_result"
    }
   ],
   "source": [
    "data.dropna()"
   ]
  },
  {
   "cell_type": "code",
   "execution_count": null,
   "metadata": {},
   "outputs": [],
   "source": []
  }
 ],
 "metadata": {
  "kernelspec": {
   "display_name": "Python 3",
   "language": "python",
   "name": "python3"
  },
  "language_info": {
   "codemirror_mode": {
    "name": "ipython",
    "version": 3
   },
   "file_extension": ".py",
   "mimetype": "text/x-python",
   "name": "python",
   "nbconvert_exporter": "python",
   "pygments_lexer": "ipython3",
   "version": "3.8.3"
  }
 },
 "nbformat": 4,
 "nbformat_minor": 4
}
