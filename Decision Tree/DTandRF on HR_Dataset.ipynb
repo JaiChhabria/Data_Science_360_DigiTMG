{
 "cells": [
  {
   "cell_type": "markdown",
   "id": "a71c1f76",
   "metadata": {},
   "source": [
    "# Problem Statement"
   ]
  },
  {
   "cell_type": "markdown",
   "id": "49efc1a4",
   "metadata": {},
   "source": [
    "4.\tIn the recruitment domain, HR faces the challenge of predicting if the candidate is faking their salary or not. For example, a candidate claims to have 5 years of experience and earns 70,000 per month working as a regional manager. The candidate expects more money than his previous CTC. We need a way to verify their claims (is 70,000 a month working as a regional manager with an experience of 5 years a genuine claim or does he/she make less than that?) Build a Decision Tree and Random Forest model with monthly income as the target variable. "
   ]
  },
  {
   "cell_type": "markdown",
   "id": "ecf548da",
   "metadata": {},
   "source": [
    "-------------------- ##### -----------------------------"
   ]
  },
  {
   "cell_type": "code",
   "execution_count": 1,
   "id": "d1e4607c",
   "metadata": {},
   "outputs": [],
   "source": [
    "import pandas as pd\n",
    "import numpy as np\n",
    "import matplotlib.pyplot as plt\n",
    "import seaborn as sns\n",
    "import missingno as msno\n",
    "plt.rcParams['figure.figsize'] = (10,15)"
   ]
  },
  {
   "cell_type": "code",
   "execution_count": 40,
   "id": "49e4623e",
   "metadata": {},
   "outputs": [
    {
     "data": {
      "text/plain": [
       "(196, 3)"
      ]
     },
     "execution_count": 40,
     "metadata": {},
     "output_type": "execute_result"
    }
   ],
   "source": [
    "data = pd.read_csv('HR_DT.csv')\n",
    "data.shape"
   ]
  },
  {
   "cell_type": "markdown",
   "id": "8ec829fe",
   "metadata": {},
   "source": [
    "We have 196 rows and 3 columns in our dataset"
   ]
  },
  {
   "cell_type": "markdown",
   "id": "770c3caa",
   "metadata": {},
   "source": [
    "Lets explore our dataset"
   ]
  },
  {
   "cell_type": "code",
   "execution_count": 3,
   "id": "64ffbbcf",
   "metadata": {},
   "outputs": [
    {
     "data": {
      "text/plain": [
       "Index(['Position', 'Experience', 'Montly_Income'], dtype='object')"
      ]
     },
     "execution_count": 3,
     "metadata": {},
     "output_type": "execute_result"
    }
   ],
   "source": [
    "data.columns"
   ]
  },
  {
   "cell_type": "code",
   "execution_count": 4,
   "id": "f8a71b95",
   "metadata": {},
   "outputs": [
    {
     "data": {
      "text/plain": [
       "Position          object\n",
       "Experience       float64\n",
       "Montly_Income      int64\n",
       "dtype: object"
      ]
     },
     "execution_count": 4,
     "metadata": {},
     "output_type": "execute_result"
    }
   ],
   "source": [
    "data.dtypes"
   ]
  },
  {
   "cell_type": "markdown",
   "id": "b943f004",
   "metadata": {},
   "source": [
    "Lets check for any missing value in our dataset"
   ]
  },
  {
   "cell_type": "code",
   "execution_count": 5,
   "id": "68c1006d",
   "metadata": {},
   "outputs": [
    {
     "data": {
      "text/plain": [
       "<AxesSubplot:>"
      ]
     },
     "execution_count": 5,
     "metadata": {},
     "output_type": "execute_result"
    },
    {
     "data": {
      "image/png": "[encoded data removed]",
      "text/plain": [
       "<Figure size 1800x720 with 3 Axes>"
      ]
     },
     "metadata": {
      "needs_background": "light"
     },
     "output_type": "display_data"
    }
   ],
   "source": [
    "msno.bar(data)"
   ]
  },
  {
   "cell_type": "markdown",
   "id": "f87f5897",
   "metadata": {},
   "source": [
    "There are no missing values in our dataset"
   ]
  },
  {
   "cell_type": "code",
   "execution_count": 6,
   "id": "bd46b7e3",
   "metadata": {},
   "outputs": [
    {
     "data": {
      "text/html": [
       "<div>\n",
       "<style scoped>\n",
       "    .dataframe tbody tr th:only-of-type {\n",
       "        vertical-align: middle;\n",
       "    }\n",
       "\n",
       "    .dataframe tbody tr th {\n",
       "        vertical-align: top;\n",
       "    }\n",
       "\n",
       "    .dataframe thead th {\n",
       "        text-align: right;\n",
       "    }\n",
       "</style>\n",
       "<table border=\"1\" class=\"dataframe\">\n",
       "  <thead>\n",
       "    <tr style=\"text-align: right;\">\n",
       "      <th></th>\n",
       "      <th>Position</th>\n",
       "      <th>Experience</th>\n",
       "      <th>Montly_Income</th>\n",
       "    </tr>\n",
       "  </thead>\n",
       "  <tbody>\n",
       "    <tr>\n",
       "      <th>count</th>\n",
       "      <td>196</td>\n",
       "      <td>196.000000</td>\n",
       "      <td>196.000000</td>\n",
       "    </tr>\n",
       "    <tr>\n",
       "      <th>unique</th>\n",
       "      <td>10</td>\n",
       "      <td>NaN</td>\n",
       "      <td>NaN</td>\n",
       "    </tr>\n",
       "    <tr>\n",
       "      <th>top</th>\n",
       "      <td>Partner</td>\n",
       "      <td>NaN</td>\n",
       "      <td>NaN</td>\n",
       "    </tr>\n",
       "    <tr>\n",
       "      <th>freq</th>\n",
       "      <td>28</td>\n",
       "      <td>NaN</td>\n",
       "      <td>NaN</td>\n",
       "    </tr>\n",
       "    <tr>\n",
       "      <th>mean</th>\n",
       "      <td>NaN</td>\n",
       "      <td>5.112245</td>\n",
       "      <td>74194.923469</td>\n",
       "    </tr>\n",
       "    <tr>\n",
       "      <th>std</th>\n",
       "      <td>NaN</td>\n",
       "      <td>2.783993</td>\n",
       "      <td>26731.578387</td>\n",
       "    </tr>\n",
       "    <tr>\n",
       "      <th>min</th>\n",
       "      <td>NaN</td>\n",
       "      <td>1.000000</td>\n",
       "      <td>37731.000000</td>\n",
       "    </tr>\n",
       "    <tr>\n",
       "      <th>25%</th>\n",
       "      <td>NaN</td>\n",
       "      <td>3.000000</td>\n",
       "      <td>56430.000000</td>\n",
       "    </tr>\n",
       "    <tr>\n",
       "      <th>50%</th>\n",
       "      <td>NaN</td>\n",
       "      <td>4.100000</td>\n",
       "      <td>63831.500000</td>\n",
       "    </tr>\n",
       "    <tr>\n",
       "      <th>75%</th>\n",
       "      <td>NaN</td>\n",
       "      <td>7.100000</td>\n",
       "      <td>98273.000000</td>\n",
       "    </tr>\n",
       "    <tr>\n",
       "      <th>max</th>\n",
       "      <td>NaN</td>\n",
       "      <td>10.500000</td>\n",
       "      <td>122391.000000</td>\n",
       "    </tr>\n",
       "  </tbody>\n",
       "</table>\n",
       "</div>"
      ],
      "text/plain": [
       "       Position  Experience  Montly_Income\n",
       "count       196  196.000000     196.000000\n",
       "unique       10         NaN            NaN\n",
       "top     Partner         NaN            NaN\n",
       "freq         28         NaN            NaN\n",
       "mean        NaN    5.112245   74194.923469\n",
       "std         NaN    2.783993   26731.578387\n",
       "min         NaN    1.000000   37731.000000\n",
       "25%         NaN    3.000000   56430.000000\n",
       "50%         NaN    4.100000   63831.500000\n",
       "75%         NaN    7.100000   98273.000000\n",
       "max         NaN   10.500000  122391.000000"
      ]
     },
     "execution_count": 6,
     "metadata": {},
     "output_type": "execute_result"
    }
   ],
   "source": [
    "data.describe(include='all')"
   ]
  },
  {
   "cell_type": "code",
   "execution_count": 7,
   "id": "b163f564",
   "metadata": {},
   "outputs": [
    {
     "data": {
      "text/plain": [
       "Partner              28\n",
       "Senior Partner       25\n",
       "C-level              24\n",
       "Region Manager       23\n",
       "CEO                  23\n",
       "Country Manager      18\n",
       "Manager              17\n",
       "Senior Consultant    16\n",
       "Junior Consultant    14\n",
       "Business Analyst      8\n",
       "Name: Position, dtype: int64"
      ]
     },
     "execution_count": 7,
     "metadata": {},
     "output_type": "execute_result"
    }
   ],
   "source": [
    "data['Position'].value_counts()"
   ]
  },
  {
   "cell_type": "code",
   "execution_count": 8,
   "id": "664cf5a3",
   "metadata": {},
   "outputs": [
    {
     "data": {
      "text/plain": [
       "4.0     14\n",
       "3.2     14\n",
       "1.3      7\n",
       "4.5      7\n",
       "4.1      7\n",
       "3.9      7\n",
       "3.7      7\n",
       "1.1      7\n",
       "3.0      7\n",
       "2.9      7\n",
       "2.2      7\n",
       "2.0      7\n",
       "1.5      7\n",
       "8.2      6\n",
       "10.5     6\n",
       "10.3     6\n",
       "9.6      6\n",
       "9.5      6\n",
       "9.0      6\n",
       "8.7      6\n",
       "5.1      6\n",
       "7.9      6\n",
       "7.1      6\n",
       "6.8      6\n",
       "6.0      6\n",
       "5.9      6\n",
       "5.3      6\n",
       "4.9      6\n",
       "1.0      1\n",
       "Name: Experience, dtype: int64"
      ]
     },
     "execution_count": 8,
     "metadata": {},
     "output_type": "execute_result"
    }
   ],
   "source": [
    "data['Experience'].value_counts()"
   ]
  },
  {
   "cell_type": "code",
   "execution_count": 9,
   "id": "bda23764",
   "metadata": {},
   "outputs": [
    {
     "data": {
      "text/plain": [
       "array([[<AxesSubplot:title={'center':'Experience'}>,\n",
       "        <AxesSubplot:title={'center':'Montly_Income'}>]], dtype=object)"
      ]
     },
     "execution_count": 9,
     "metadata": {},
     "output_type": "execute_result"
    },
    {
     "data": {
      "image/png": "[encoded data removed]",
      "text/plain": [
       "<Figure size 720x1080 with 2 Axes>"
      ]
     },
     "metadata": {
      "needs_background": "light"
     },
     "output_type": "display_data"
    }
   ],
   "source": [
    "data.hist(edgecolor='black')"
   ]
  },
  {
   "cell_type": "code",
   "execution_count": 41,
   "id": "3e82bf32",
   "metadata": {},
   "outputs": [
    {
     "name": "stderr",
     "output_type": "stream",
     "text": [
      "C:\\Users\\jaich\\anaconda3\\lib\\site-packages\\seaborn\\_decorators.py:36: FutureWarning: Pass the following variables as keyword args: x, y. From version 0.12, the only valid positional argument will be `data`, and passing other arguments without an explicit keyword will result in an error or misinterpretation.\n",
      "  warnings.warn(\n"
     ]
    },
    {
     "data": {
      "text/plain": [
       "<AxesSubplot:xlabel='Experience', ylabel='Montly_Income'>"
      ]
     },
     "execution_count": 41,
     "metadata": {},
     "output_type": "execute_result"
    },
    {
     "data": {
      "image/png": "[encoded data removed]",
      "text/plain": [
       "<Figure size 720x1080 with 1 Axes>"
      ]
     },
     "metadata": {
      "needs_background": "light"
     },
     "output_type": "display_data"
    }
   ],
   "source": [
    "sns.scatterplot('Experience','Montly_Income', data=data)"
   ]
  },
  {
   "cell_type": "code",
   "execution_count": 44,
   "id": "a6c044aa",
   "metadata": {},
   "outputs": [
    {
     "data": {
      "text/plain": [
       "<AxesSubplot:>"
      ]
     },
     "execution_count": 44,
     "metadata": {},
     "output_type": "execute_result"
    },
    {
     "data": {
      "image/png": "[encoded data removed]",
      "text/plain": [
       "<Figure size 720x1080 with 1 Axes>"
      ]
     },
     "metadata": {
      "needs_background": "light"
     },
     "output_type": "display_data"
    }
   ],
   "source": [
    "data[data['Experience']>5.0].plot(kind='bar')"
   ]
  },
  {
   "cell_type": "markdown",
   "id": "7c376c56",
   "metadata": {},
   "source": [
    "It does looks like if experience is more then 5 years then salary is close to 70K "
   ]
  },
  {
   "cell_type": "markdown",
   "id": "2e94b606",
   "metadata": {},
   "source": [
    "As per the requirement, we need to Transform our Monthly Income values to as follows:\n",
    "\n",
    "- <= 70000 then Bluffy\n",
    "- > 70000 then Truth\n",
    "\n",
    "Lets transform the column and build DT model"
   ]
  },
  {
   "cell_type": "code",
   "execution_count": 46,
   "id": "0d462ec0",
   "metadata": {},
   "outputs": [
    {
     "data": {
      "text/html": [
       "<div>\n",
       "<style scoped>\n",
       "    .dataframe tbody tr th:only-of-type {\n",
       "        vertical-align: middle;\n",
       "    }\n",
       "\n",
       "    .dataframe tbody tr th {\n",
       "        vertical-align: top;\n",
       "    }\n",
       "\n",
       "    .dataframe thead th {\n",
       "        text-align: right;\n",
       "    }\n",
       "</style>\n",
       "<table border=\"1\" class=\"dataframe\">\n",
       "  <thead>\n",
       "    <tr style=\"text-align: right;\">\n",
       "      <th></th>\n",
       "      <th>Position</th>\n",
       "      <th>Experience</th>\n",
       "      <th>Montly_Income</th>\n",
       "      <th>Category</th>\n",
       "    </tr>\n",
       "  </thead>\n",
       "  <tbody>\n",
       "    <tr>\n",
       "      <th>0</th>\n",
       "      <td>Business Analyst</td>\n",
       "      <td>1.1</td>\n",
       "      <td>39343</td>\n",
       "      <td>Bluffy</td>\n",
       "    </tr>\n",
       "    <tr>\n",
       "      <th>1</th>\n",
       "      <td>Junior Consultant</td>\n",
       "      <td>1.3</td>\n",
       "      <td>46205</td>\n",
       "      <td>Bluffy</td>\n",
       "    </tr>\n",
       "    <tr>\n",
       "      <th>2</th>\n",
       "      <td>Senior Consultant</td>\n",
       "      <td>1.5</td>\n",
       "      <td>37731</td>\n",
       "      <td>Bluffy</td>\n",
       "    </tr>\n",
       "    <tr>\n",
       "      <th>3</th>\n",
       "      <td>Manager</td>\n",
       "      <td>2.0</td>\n",
       "      <td>43525</td>\n",
       "      <td>Bluffy</td>\n",
       "    </tr>\n",
       "    <tr>\n",
       "      <th>4</th>\n",
       "      <td>Country Manager</td>\n",
       "      <td>2.2</td>\n",
       "      <td>39891</td>\n",
       "      <td>Bluffy</td>\n",
       "    </tr>\n",
       "  </tbody>\n",
       "</table>\n",
       "</div>"
      ],
      "text/plain": [
       "            Position  Experience  Montly_Income Category\n",
       "0   Business Analyst         1.1          39343   Bluffy\n",
       "1  Junior Consultant         1.3          46205   Bluffy\n",
       "2  Senior Consultant         1.5          37731   Bluffy\n",
       "3            Manager         2.0          43525   Bluffy\n",
       "4    Country Manager         2.2          39891   Bluffy"
      ]
     },
     "execution_count": 46,
     "metadata": {},
     "output_type": "execute_result"
    }
   ],
   "source": [
    "data['Category'] = np.where(data['Montly_Income'] <70000,\"Bluffy\",\"Truth\")\n",
    "data.head()"
   ]
  },
  {
   "cell_type": "code",
   "execution_count": 47,
   "id": "e006005d",
   "metadata": {},
   "outputs": [
    {
     "data": {
      "text/plain": [
       "Bluffy    118\n",
       "Truth      78\n",
       "Name: Category, dtype: int64"
      ]
     },
     "execution_count": 47,
     "metadata": {},
     "output_type": "execute_result"
    }
   ],
   "source": [
    "data['Category'].value_counts()"
   ]
  },
  {
   "cell_type": "markdown",
   "id": "3a460796",
   "metadata": {},
   "source": [
    "Now we have categorised our Montly Income column, we can drop this column from our dataset"
   ]
  },
  {
   "cell_type": "code",
   "execution_count": 48,
   "id": "bcd3fd8c",
   "metadata": {},
   "outputs": [],
   "source": [
    "data = data.drop('Montly_Income', axis=1)"
   ]
  },
  {
   "cell_type": "code",
   "execution_count": 49,
   "id": "3dd31b0c",
   "metadata": {},
   "outputs": [
    {
     "data": {
      "text/html": [
       "<div>\n",
       "<style scoped>\n",
       "    .dataframe tbody tr th:only-of-type {\n",
       "        vertical-align: middle;\n",
       "    }\n",
       "\n",
       "    .dataframe tbody tr th {\n",
       "        vertical-align: top;\n",
       "    }\n",
       "\n",
       "    .dataframe thead th {\n",
       "        text-align: right;\n",
       "    }\n",
       "</style>\n",
       "<table border=\"1\" class=\"dataframe\">\n",
       "  <thead>\n",
       "    <tr style=\"text-align: right;\">\n",
       "      <th></th>\n",
       "      <th>Position</th>\n",
       "      <th>Experience</th>\n",
       "      <th>Category</th>\n",
       "    </tr>\n",
       "  </thead>\n",
       "  <tbody>\n",
       "    <tr>\n",
       "      <th>0</th>\n",
       "      <td>Business Analyst</td>\n",
       "      <td>1.1</td>\n",
       "      <td>Bluffy</td>\n",
       "    </tr>\n",
       "    <tr>\n",
       "      <th>1</th>\n",
       "      <td>Junior Consultant</td>\n",
       "      <td>1.3</td>\n",
       "      <td>Bluffy</td>\n",
       "    </tr>\n",
       "    <tr>\n",
       "      <th>2</th>\n",
       "      <td>Senior Consultant</td>\n",
       "      <td>1.5</td>\n",
       "      <td>Bluffy</td>\n",
       "    </tr>\n",
       "    <tr>\n",
       "      <th>3</th>\n",
       "      <td>Manager</td>\n",
       "      <td>2.0</td>\n",
       "      <td>Bluffy</td>\n",
       "    </tr>\n",
       "    <tr>\n",
       "      <th>4</th>\n",
       "      <td>Country Manager</td>\n",
       "      <td>2.2</td>\n",
       "      <td>Bluffy</td>\n",
       "    </tr>\n",
       "  </tbody>\n",
       "</table>\n",
       "</div>"
      ],
      "text/plain": [
       "            Position  Experience Category\n",
       "0   Business Analyst         1.1   Bluffy\n",
       "1  Junior Consultant         1.3   Bluffy\n",
       "2  Senior Consultant         1.5   Bluffy\n",
       "3            Manager         2.0   Bluffy\n",
       "4    Country Manager         2.2   Bluffy"
      ]
     },
     "execution_count": 49,
     "metadata": {},
     "output_type": "execute_result"
    }
   ],
   "source": [
    "data.head()"
   ]
  },
  {
   "cell_type": "code",
   "execution_count": 50,
   "id": "bf1cfd35",
   "metadata": {},
   "outputs": [],
   "source": [
    "from sklearn.preprocessing import LabelEncoder\n",
    "lb = LabelEncoder()"
   ]
  },
  {
   "cell_type": "code",
   "execution_count": 51,
   "id": "c6a0f190",
   "metadata": {},
   "outputs": [],
   "source": [
    "data['Position'] = lb.fit_transform(data['Position'])\n",
    "data['Category'] = lb.fit_transform(data['Category'])\n"
   ]
  },
  {
   "cell_type": "code",
   "execution_count": 52,
   "id": "b7ca5299",
   "metadata": {},
   "outputs": [
    {
     "data": {
      "text/html": [
       "<div>\n",
       "<style scoped>\n",
       "    .dataframe tbody tr th:only-of-type {\n",
       "        vertical-align: middle;\n",
       "    }\n",
       "\n",
       "    .dataframe tbody tr th {\n",
       "        vertical-align: top;\n",
       "    }\n",
       "\n",
       "    .dataframe thead th {\n",
       "        text-align: right;\n",
       "    }\n",
       "</style>\n",
       "<table border=\"1\" class=\"dataframe\">\n",
       "  <thead>\n",
       "    <tr style=\"text-align: right;\">\n",
       "      <th></th>\n",
       "      <th>Position</th>\n",
       "      <th>Experience</th>\n",
       "      <th>Category</th>\n",
       "    </tr>\n",
       "  </thead>\n",
       "  <tbody>\n",
       "    <tr>\n",
       "      <th>0</th>\n",
       "      <td>0</td>\n",
       "      <td>1.1</td>\n",
       "      <td>0</td>\n",
       "    </tr>\n",
       "    <tr>\n",
       "      <th>1</th>\n",
       "      <td>4</td>\n",
       "      <td>1.3</td>\n",
       "      <td>0</td>\n",
       "    </tr>\n",
       "    <tr>\n",
       "      <th>2</th>\n",
       "      <td>8</td>\n",
       "      <td>1.5</td>\n",
       "      <td>0</td>\n",
       "    </tr>\n",
       "    <tr>\n",
       "      <th>3</th>\n",
       "      <td>5</td>\n",
       "      <td>2.0</td>\n",
       "      <td>0</td>\n",
       "    </tr>\n",
       "    <tr>\n",
       "      <th>4</th>\n",
       "      <td>3</td>\n",
       "      <td>2.2</td>\n",
       "      <td>0</td>\n",
       "    </tr>\n",
       "  </tbody>\n",
       "</table>\n",
       "</div>"
      ],
      "text/plain": [
       "   Position  Experience  Category\n",
       "0         0         1.1         0\n",
       "1         4         1.3         0\n",
       "2         8         1.5         0\n",
       "3         5         2.0         0\n",
       "4         3         2.2         0"
      ]
     },
     "execution_count": 52,
     "metadata": {},
     "output_type": "execute_result"
    }
   ],
   "source": [
    "data.head()"
   ]
  },
  {
   "cell_type": "code",
   "execution_count": null,
   "id": "c816876c",
   "metadata": {},
   "outputs": [],
   "source": []
  },
  {
   "cell_type": "markdown",
   "id": "1b81777a",
   "metadata": {},
   "source": [
    "Lets build DT Models"
   ]
  },
  {
   "cell_type": "code",
   "execution_count": 53,
   "id": "96d1169c",
   "metadata": {},
   "outputs": [],
   "source": [
    "colnames = list(data.columns)"
   ]
  },
  {
   "cell_type": "code",
   "execution_count": 54,
   "id": "9f2b67c8",
   "metadata": {},
   "outputs": [],
   "source": [
    "predictors = colnames[:2]\n",
    "target = colnames[-1]"
   ]
  },
  {
   "cell_type": "code",
   "execution_count": 55,
   "id": "8d80f1be",
   "metadata": {},
   "outputs": [
    {
     "data": {
      "text/plain": [
       "['Position', 'Experience']"
      ]
     },
     "execution_count": 55,
     "metadata": {},
     "output_type": "execute_result"
    }
   ],
   "source": [
    "predictors"
   ]
  },
  {
   "cell_type": "code",
   "execution_count": 56,
   "id": "d24d052a",
   "metadata": {},
   "outputs": [
    {
     "data": {
      "text/plain": [
       "'Category'"
      ]
     },
     "execution_count": 56,
     "metadata": {},
     "output_type": "execute_result"
    }
   ],
   "source": [
    "target"
   ]
  },
  {
   "cell_type": "code",
   "execution_count": 57,
   "id": "9392a66b",
   "metadata": {},
   "outputs": [],
   "source": [
    "from sklearn.model_selection import train_test_split\n",
    "train, test = train_test_split(data, test_size=0.3)"
   ]
  },
  {
   "cell_type": "code",
   "execution_count": 58,
   "id": "99765469",
   "metadata": {},
   "outputs": [],
   "source": [
    "from sklearn.tree import DecisionTreeClassifier as DT"
   ]
  },
  {
   "cell_type": "code",
   "execution_count": 59,
   "id": "b919eefa",
   "metadata": {},
   "outputs": [
    {
     "data": {
      "text/plain": [
       "DecisionTreeClassifier(criterion='entropy')"
      ]
     },
     "execution_count": 59,
     "metadata": {},
     "output_type": "execute_result"
    }
   ],
   "source": [
    "model = DT(criterion = 'entropy')\n",
    "model.fit(train[predictors], train[target])"
   ]
  },
  {
   "cell_type": "code",
   "execution_count": 60,
   "id": "2c492069",
   "metadata": {},
   "outputs": [
    {
     "data": {
      "text/html": [
       "<div>\n",
       "<style scoped>\n",
       "    .dataframe tbody tr th:only-of-type {\n",
       "        vertical-align: middle;\n",
       "    }\n",
       "\n",
       "    .dataframe tbody tr th {\n",
       "        vertical-align: top;\n",
       "    }\n",
       "\n",
       "    .dataframe thead th {\n",
       "        text-align: right;\n",
       "    }\n",
       "</style>\n",
       "<table border=\"1\" class=\"dataframe\">\n",
       "  <thead>\n",
       "    <tr style=\"text-align: right;\">\n",
       "      <th>Predictions</th>\n",
       "      <th>0</th>\n",
       "      <th>1</th>\n",
       "    </tr>\n",
       "    <tr>\n",
       "      <th>Actual</th>\n",
       "      <th></th>\n",
       "      <th></th>\n",
       "    </tr>\n",
       "  </thead>\n",
       "  <tbody>\n",
       "    <tr>\n",
       "      <th>0</th>\n",
       "      <td>85</td>\n",
       "      <td>0</td>\n",
       "    </tr>\n",
       "    <tr>\n",
       "      <th>1</th>\n",
       "      <td>0</td>\n",
       "      <td>52</td>\n",
       "    </tr>\n",
       "  </tbody>\n",
       "</table>\n",
       "</div>"
      ],
      "text/plain": [
       "Predictions   0   1\n",
       "Actual             \n",
       "0            85   0\n",
       "1             0  52"
      ]
     },
     "execution_count": 60,
     "metadata": {},
     "output_type": "execute_result"
    }
   ],
   "source": [
    "# Prediction on Train Data\n",
    "preds = model.predict(train[predictors])\n",
    "pd.crosstab(train[target], preds, rownames = ['Actual'], colnames = ['Predictions'])"
   ]
  },
  {
   "cell_type": "code",
   "execution_count": 61,
   "id": "9c80a3e6",
   "metadata": {},
   "outputs": [
    {
     "data": {
      "text/html": [
       "<div>\n",
       "<style scoped>\n",
       "    .dataframe tbody tr th:only-of-type {\n",
       "        vertical-align: middle;\n",
       "    }\n",
       "\n",
       "    .dataframe tbody tr th {\n",
       "        vertical-align: top;\n",
       "    }\n",
       "\n",
       "    .dataframe thead th {\n",
       "        text-align: right;\n",
       "    }\n",
       "</style>\n",
       "<table border=\"1\" class=\"dataframe\">\n",
       "  <thead>\n",
       "    <tr style=\"text-align: right;\">\n",
       "      <th>Predictions</th>\n",
       "      <th>0</th>\n",
       "      <th>1</th>\n",
       "    </tr>\n",
       "    <tr>\n",
       "      <th>Actual</th>\n",
       "      <th></th>\n",
       "      <th></th>\n",
       "    </tr>\n",
       "  </thead>\n",
       "  <tbody>\n",
       "    <tr>\n",
       "      <th>0</th>\n",
       "      <td>33</td>\n",
       "      <td>0</td>\n",
       "    </tr>\n",
       "    <tr>\n",
       "      <th>1</th>\n",
       "      <td>0</td>\n",
       "      <td>26</td>\n",
       "    </tr>\n",
       "  </tbody>\n",
       "</table>\n",
       "</div>"
      ],
      "text/plain": [
       "Predictions   0   1\n",
       "Actual             \n",
       "0            33   0\n",
       "1             0  26"
      ]
     },
     "execution_count": 61,
     "metadata": {},
     "output_type": "execute_result"
    }
   ],
   "source": [
    "# prediction on Test data\n",
    "preds = model.predict(test[predictors])\n",
    "pd.crosstab(test[target], preds, rownames=['Actual'], colnames=['Predictions'])"
   ]
  },
  {
   "cell_type": "code",
   "execution_count": 62,
   "id": "ac717ffc",
   "metadata": {},
   "outputs": [
    {
     "data": {
      "text/plain": [
       "1.0"
      ]
     },
     "execution_count": 62,
     "metadata": {},
     "output_type": "execute_result"
    }
   ],
   "source": [
    "np.mean(preds==test[target]) # Test Data Accuracy"
   ]
  },
  {
   "cell_type": "markdown",
   "id": "09d4e3c2",
   "metadata": {},
   "source": [
    "Lets Prune model"
   ]
  },
  {
   "cell_type": "code",
   "execution_count": 63,
   "id": "a851f385",
   "metadata": {},
   "outputs": [],
   "source": [
    "predictors = data.loc[:,data.columns!='Category']\n",
    "target = data['Category']"
   ]
  },
  {
   "cell_type": "code",
   "execution_count": 64,
   "id": "6930bf9a",
   "metadata": {},
   "outputs": [
    {
     "name": "stdout",
     "output_type": "stream",
     "text": [
      "(137, 2) (59, 2) (137,) (59,)\n"
     ]
    }
   ],
   "source": [
    "x_train, x_test, y_train, y_test = train_test_split(predictors, target, test_size = 0.3, random_state=5)\n",
    "print(x_train.shape,x_test.shape,y_train.shape,y_test.shape)"
   ]
  },
  {
   "cell_type": "code",
   "execution_count": 65,
   "id": "7da40b97",
   "metadata": {},
   "outputs": [
    {
     "data": {
      "text/plain": [
       "DecisionTreeRegressor(max_depth=3)"
      ]
     },
     "execution_count": 65,
     "metadata": {},
     "output_type": "execute_result"
    }
   ],
   "source": [
    "from sklearn import tree\n",
    "regtree = tree.DecisionTreeRegressor(max_depth=3)\n",
    "regtree.fit(x_train,y_train)"
   ]
  },
  {
   "cell_type": "code",
   "execution_count": 66,
   "id": "3c97430d",
   "metadata": {},
   "outputs": [],
   "source": [
    "# Prediction\n",
    "test_pred = regtree.predict(x_test)\n",
    "train_pred = regtree.predict(x_train)"
   ]
  },
  {
   "cell_type": "code",
   "execution_count": 67,
   "id": "139c60c8",
   "metadata": {},
   "outputs": [],
   "source": [
    "# Measuring accuracy\n",
    "from sklearn.metrics import mean_squared_error, r2_score"
   ]
  },
  {
   "cell_type": "code",
   "execution_count": 68,
   "id": "1797a659",
   "metadata": {},
   "outputs": [
    {
     "data": {
      "text/plain": [
       "1.0"
      ]
     },
     "execution_count": 68,
     "metadata": {},
     "output_type": "execute_result"
    }
   ],
   "source": [
    "# Error on train dataset\n",
    "mean_squared_error(y_train, train_pred)\n",
    "r2_score(y_train, train_pred)"
   ]
  },
  {
   "cell_type": "code",
   "execution_count": 69,
   "id": "7abbedc1",
   "metadata": {},
   "outputs": [
    {
     "data": {
      "text/plain": [
       "1.0"
      ]
     },
     "execution_count": 69,
     "metadata": {},
     "output_type": "execute_result"
    }
   ],
   "source": [
    "# Error on test dataset\n",
    "mean_squared_error(y_test, test_pred)\n",
    "r2_score(y_test, test_pred)"
   ]
  },
  {
   "cell_type": "code",
   "execution_count": 70,
   "id": "8d972c64",
   "metadata": {},
   "outputs": [
    {
     "name": "stdout",
     "output_type": "stream",
     "text": [
      "Train Error 0.0\n",
      "Train Error 1.0\n",
      "Test Error 0.0\n",
      "Test Error 1.0\n"
     ]
    }
   ],
   "source": [
    "regtree = tree.DecisionTreeRegressor(max_depth=4)\n",
    "regtree.fit(x_train,y_train)\n",
    "\n",
    "# Prediction\n",
    "test_pred = regtree.predict(x_test)\n",
    "train_pred = regtree.predict(x_train)\n",
    "\n",
    "# Error on train dataset\n",
    "print(\"Train Error\",mean_squared_error(y_train, train_pred))\n",
    "print(\"Train Error\",r2_score(y_train, train_pred))\n",
    "\n",
    "# Error on test dataset\n",
    "print(\"Test Error\",mean_squared_error(y_test, test_pred))\n",
    "print(\"Test Error\",r2_score(y_test, test_pred))"
   ]
  },
  {
   "cell_type": "code",
   "execution_count": 71,
   "id": "94ad7a23",
   "metadata": {},
   "outputs": [
    {
     "name": "stdout",
     "output_type": "stream",
     "text": [
      "Train Error 0.0\n",
      "Train Error 1.0\n",
      "Test Error 0.0\n",
      "Test Error 1.0\n"
     ]
    }
   ],
   "source": [
    "regtree = tree.DecisionTreeRegressor(max_depth=5)\n",
    "regtree.fit(x_train,y_train)\n",
    "\n",
    "# Prediction\n",
    "test_pred = regtree.predict(x_test)\n",
    "train_pred = regtree.predict(x_train)\n",
    "\n",
    "# Error on train dataset\n",
    "print(\"Train Error\",mean_squared_error(y_train, train_pred))\n",
    "print(\"Train Error\",r2_score(y_train, train_pred))\n",
    "\n",
    "# Error on test dataset\n",
    "print(\"Test Error\",mean_squared_error(y_test, test_pred))\n",
    "print(\"Test Error\",r2_score(y_test, test_pred))"
   ]
  },
  {
   "cell_type": "code",
   "execution_count": 72,
   "id": "4c81e22c",
   "metadata": {},
   "outputs": [
    {
     "name": "stdout",
     "output_type": "stream",
     "text": [
      "Train Error 0.0\n",
      "Train Error 1.0\n",
      "Test Error 0.0\n",
      "Test Error 1.0\n"
     ]
    }
   ],
   "source": [
    "regtree = tree.DecisionTreeRegressor(max_depth=6)\n",
    "regtree.fit(x_train,y_train)\n",
    "\n",
    "# Prediction\n",
    "test_pred = regtree.predict(x_test)\n",
    "train_pred = regtree.predict(x_train)\n",
    "\n",
    "# Error on train dataset\n",
    "print(\"Train Error\",mean_squared_error(y_train, train_pred))\n",
    "print(\"Train Error\",r2_score(y_train, train_pred))\n",
    "\n",
    "# Error on test dataset\n",
    "print(\"Test Error\",mean_squared_error(y_test, test_pred))\n",
    "print(\"Test Error\",r2_score(y_test, test_pred))"
   ]
  },
  {
   "cell_type": "markdown",
   "id": "86950341",
   "metadata": {},
   "source": [
    "Min Sample Split"
   ]
  },
  {
   "cell_type": "code",
   "execution_count": 73,
   "id": "9eb174f0",
   "metadata": {},
   "outputs": [
    {
     "name": "stdout",
     "output_type": "stream",
     "text": [
      "Train Error with Mean Square 0.0\n",
      "Train Error with R2 1.0\n",
      "Test Error with Mean Square 0.0\n",
      "Test Error with R2 1.0\n"
     ]
    }
   ],
   "source": [
    "regtree2 = tree.DecisionTreeRegressor(min_samples_split = 3)\n",
    "regtree2.fit(x_train, y_train)\n",
    "\n",
    "# Prediction\n",
    "test_pred2 = regtree2.predict(x_test)\n",
    "train_pred2 = regtree2.predict(x_train)\n",
    "\n",
    "# Error on train dataset\n",
    "print(\"Train Error with Mean Square\",mean_squared_error(y_train, train_pred2))\n",
    "print(\"Train Error with R2\",r2_score(y_train, train_pred2))\n",
    "\n",
    "# Error on test dataset\n",
    "print(\"Test Error with Mean Square\",mean_squared_error(y_test, test_pred2))\n",
    "print(\"Test Error with R2\",r2_score(y_test, test_pred2))"
   ]
  },
  {
   "cell_type": "code",
   "execution_count": 74,
   "id": "d84cb71f",
   "metadata": {},
   "outputs": [
    {
     "name": "stdout",
     "output_type": "stream",
     "text": [
      "Train Error with Mean Square 0.0\n",
      "Train Error with R2 1.0\n",
      "Test Error with Mean Square 0.0\n",
      "Test Error with R2 1.0\n"
     ]
    }
   ],
   "source": [
    "regtree2 = tree.DecisionTreeRegressor(min_samples_split = 4)\n",
    "regtree2.fit(x_train, y_train)\n",
    "\n",
    "# Prediction\n",
    "test_pred2 = regtree2.predict(x_test)\n",
    "train_pred2 = regtree2.predict(x_train)\n",
    "\n",
    "# Error on train dataset\n",
    "print(\"Train Error with Mean Square\",mean_squared_error(y_train, train_pred2))\n",
    "print(\"Train Error with R2\",r2_score(y_train, train_pred2))\n",
    "\n",
    "# Error on test dataset\n",
    "print(\"Test Error with Mean Square\",mean_squared_error(y_test, test_pred2))\n",
    "print(\"Test Error with R2\",r2_score(y_test, test_pred2))"
   ]
  },
  {
   "cell_type": "code",
   "execution_count": 75,
   "id": "9ab1960a",
   "metadata": {},
   "outputs": [
    {
     "name": "stdout",
     "output_type": "stream",
     "text": [
      "Train Error with Mean Square 0.0\n",
      "Train Error with R2 1.0\n",
      "Test Error with Mean Square 0.0\n",
      "Test Error with R2 1.0\n"
     ]
    }
   ],
   "source": [
    "regtree2 = tree.DecisionTreeRegressor(min_samples_split = 5)\n",
    "regtree2.fit(x_train, y_train)\n",
    "\n",
    "# Prediction\n",
    "test_pred2 = regtree2.predict(x_test)\n",
    "train_pred2 = regtree2.predict(x_train)\n",
    "\n",
    "# Error on train dataset\n",
    "print(\"Train Error with Mean Square\",mean_squared_error(y_train, train_pred2))\n",
    "print(\"Train Error with R2\",r2_score(y_train, train_pred2))\n",
    "\n",
    "# Error on test dataset\n",
    "print(\"Test Error with Mean Square\",mean_squared_error(y_test, test_pred2))\n",
    "print(\"Test Error with R2\",r2_score(y_test, test_pred2))"
   ]
  },
  {
   "cell_type": "markdown",
   "id": "8c79af1a",
   "metadata": {},
   "source": [
    "Min Sample Leaf Method"
   ]
  },
  {
   "cell_type": "code",
   "execution_count": 76,
   "id": "268459a8",
   "metadata": {},
   "outputs": [
    {
     "name": "stdout",
     "output_type": "stream",
     "text": [
      "Train Error with Mean Squared 0.0\n",
      "Train Error with R2 1.0\n",
      "Test Error with Mean Squared 0.0\n",
      "Test Error with R2 1.0\n"
     ]
    }
   ],
   "source": [
    "## Minimum observations at the leaf node approach\n",
    "regtree3 = tree.DecisionTreeRegressor(min_samples_leaf = 3)\n",
    "regtree3.fit(x_train, y_train)\n",
    "\n",
    "# Prediction\n",
    "test_pred3 = regtree3.predict(x_test)\n",
    "train_pred3 = regtree3.predict(x_train)\n",
    "\n",
    "# measure of error on train dataset\n",
    "print(\"Train Error with Mean Squared\",mean_squared_error(y_train, train_pred3))\n",
    "print(\"Train Error with R2\",r2_score(y_train, train_pred3))\n",
    "\n",
    "# measure of error on test dataset\n",
    "print(\"Test Error with Mean Squared\",mean_squared_error(y_test, test_pred3))\n",
    "print(\"Test Error with R2\",r2_score(y_test, test_pred3))"
   ]
  },
  {
   "cell_type": "code",
   "execution_count": 77,
   "id": "e3614524",
   "metadata": {},
   "outputs": [
    {
     "name": "stdout",
     "output_type": "stream",
     "text": [
      "Train Error with Mean Squared 0.0\n",
      "Train Error with R2 1.0\n",
      "Test Error with Mean Squared 0.0\n",
      "Test Error with R2 1.0\n"
     ]
    }
   ],
   "source": [
    "## Minimum observations at the leaf node approach\n",
    "regtree3 = tree.DecisionTreeRegressor(min_samples_leaf = 4)\n",
    "regtree3.fit(x_train, y_train)\n",
    "\n",
    "# Prediction\n",
    "test_pred3 = regtree3.predict(x_test)\n",
    "train_pred3 = regtree3.predict(x_train)\n",
    "\n",
    "# measure of error on train dataset\n",
    "print(\"Train Error with Mean Squared\",mean_squared_error(y_train, train_pred3))\n",
    "print(\"Train Error with R2\",r2_score(y_train, train_pred3))\n",
    "\n",
    "# measure of error on test dataset\n",
    "print(\"Test Error with Mean Squared\",mean_squared_error(y_test, test_pred3))\n",
    "print(\"Test Error with R2\",r2_score(y_test, test_pred3))"
   ]
  },
  {
   "cell_type": "code",
   "execution_count": 78,
   "id": "b1993f68",
   "metadata": {},
   "outputs": [
    {
     "name": "stdout",
     "output_type": "stream",
     "text": [
      "Train Error with Mean Squared 0.0\n",
      "Train Error with R2 1.0\n",
      "Test Error with Mean Squared 0.0\n",
      "Test Error with R2 1.0\n"
     ]
    }
   ],
   "source": [
    "## Minimum observations at the leaf node approach\n",
    "regtree3 = tree.DecisionTreeRegressor(min_samples_leaf = 5)\n",
    "regtree3.fit(x_train, y_train)\n",
    "\n",
    "# Prediction\n",
    "test_pred3 = regtree3.predict(x_test)\n",
    "train_pred3 = regtree3.predict(x_train)\n",
    "\n",
    "# measure of error on train dataset\n",
    "print(\"Train Error with Mean Squared\",mean_squared_error(y_train, train_pred3))\n",
    "print(\"Train Error with R2\",r2_score(y_train, train_pred3))\n",
    "\n",
    "# measure of error on test dataset\n",
    "print(\"Test Error with Mean Squared\",mean_squared_error(y_test, test_pred3))\n",
    "print(\"Test Error with R2\",r2_score(y_test, test_pred3))"
   ]
  },
  {
   "cell_type": "markdown",
   "id": "c20a79f9",
   "metadata": {},
   "source": [
    "Random Forest Classifier"
   ]
  },
  {
   "cell_type": "code",
   "execution_count": 79,
   "id": "bde24acd",
   "metadata": {},
   "outputs": [],
   "source": [
    "from sklearn.ensemble import RandomForestClassifier"
   ]
  },
  {
   "cell_type": "code",
   "execution_count": 80,
   "id": "e05bf639",
   "metadata": {},
   "outputs": [],
   "source": [
    "rf_clf = RandomForestClassifier(n_estimators=600, n_jobs=1, random_state=42)"
   ]
  },
  {
   "cell_type": "code",
   "execution_count": 81,
   "id": "1f904ed7",
   "metadata": {},
   "outputs": [
    {
     "data": {
      "text/plain": [
       "RandomForestClassifier(n_estimators=600, n_jobs=1, random_state=42)"
      ]
     },
     "execution_count": 81,
     "metadata": {},
     "output_type": "execute_result"
    }
   ],
   "source": [
    "rf_clf.fit(x_train, y_train)\n"
   ]
  },
  {
   "cell_type": "code",
   "execution_count": 82,
   "id": "b8604051",
   "metadata": {},
   "outputs": [],
   "source": [
    "from sklearn.metrics import accuracy_score, confusion_matrix"
   ]
  },
  {
   "cell_type": "code",
   "execution_count": 83,
   "id": "1fb1b704",
   "metadata": {},
   "outputs": [
    {
     "name": "stdout",
     "output_type": "stream",
     "text": [
      "[[31  0]\n",
      " [ 0 28]]\n",
      "1.0\n"
     ]
    }
   ],
   "source": [
    "print(confusion_matrix(y_test, rf_clf.predict(x_test)))\n",
    "print(accuracy_score(y_test, rf_clf.predict(x_test)))"
   ]
  },
  {
   "cell_type": "markdown",
   "id": "04e69848",
   "metadata": {},
   "source": [
    "Grid Search"
   ]
  },
  {
   "cell_type": "code",
   "execution_count": 85,
   "id": "67107d6a",
   "metadata": {},
   "outputs": [
    {
     "name": "stderr",
     "output_type": "stream",
     "text": [
      "C:\\Users\\jaich\\anaconda3\\lib\\site-packages\\sklearn\\model_selection\\_search.py:922: UserWarning: One or more of the test scores are non-finite: [ 1.  1.  1. nan nan nan]\n",
      "  warnings.warn(\n"
     ]
    },
    {
     "data": {
      "text/plain": [
       "1.0"
      ]
     },
     "execution_count": 85,
     "metadata": {},
     "output_type": "execute_result"
    }
   ],
   "source": [
    "# Grid Search\n",
    "from sklearn.model_selection import GridSearchCV\n",
    "\n",
    "rf_clf_grid = RandomForestClassifier(n_estimators=600, n_jobs=1, random_state=42)\n",
    "\n",
    "param_grid = {\"max_features\": [2,3], \"min_samples_split\": [2, 3, 10]}\n",
    "\n",
    "grid_search = GridSearchCV(rf_clf_grid, param_grid, n_jobs = -1, cv = 5, scoring = 'accuracy')\n",
    "\n",
    "grid_search.fit(x_train, y_train)\n",
    "\n",
    "grid_search.best_params_\n",
    "\n",
    "cv_rf_clf_grid = grid_search.best_estimator_\n",
    "\n",
    "from sklearn.metrics import accuracy_score, confusion_matrix\n",
    "\n",
    "confusion_matrix(y_test, cv_rf_clf_grid.predict(x_test))\n",
    "accuracy_score(y_test, cv_rf_clf_grid.predict(x_test))"
   ]
  },
  {
   "cell_type": "markdown",
   "id": "26806b6e",
   "metadata": {},
   "source": [
    "Based on the data, the claim seems to be true that if experience is > 5 yrs then it is 70k salary"
   ]
  },
  {
   "cell_type": "code",
   "execution_count": null,
   "id": "e366a28e",
   "metadata": {},
   "outputs": [],
   "source": []
  }
 ],
 "metadata": {
  "kernelspec": {
   "display_name": "Python 3",
   "language": "python",
   "name": "python3"
  },
  "language_info": {
   "codemirror_mode": {
    "name": "ipython",
    "version": 3
   },
   "file_extension": ".py",
   "mimetype": "text/x-python",
   "name": "python",
   "nbconvert_exporter": "python",
   "pygments_lexer": "ipython3",
   "version": "3.8.10"
  }
 },
 "nbformat": 4,
 "nbformat_minor": 5
}
